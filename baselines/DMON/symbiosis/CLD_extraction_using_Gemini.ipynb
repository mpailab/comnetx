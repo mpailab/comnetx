{
  "cells": [
    {
      "cell_type": "markdown",
      "metadata": {
        "id": "3iPm9COfQ7Y8"
      },
      "source": [
        "Licensed under the Apache License, Version 2.0"
      ]
    },
    {
      "cell_type": "markdown",
      "metadata": {
        "id": "e_EsJgQRAMYq"
      },
      "source": [
        "# Params"
      ]
    },
    {
      "cell_type": "code",
      "execution_count": null,
      "metadata": {
        "id": "OiFI41lDAP18"
      },
      "outputs": [],
      "source": [
        "IMAGES_DIRECTORY_PATH = 'extracted_images'  #@param {type:\"string\"}\n",
        "SDMC_PICKLE_FILE_PATH = 'sdmc.pkl'  #@param {type:\"string\"}\n",
        "FEW_SHOT_IMAGES_DIRECTORY_PATH = 'few_shot_images'  #@param {type:\"string\"}\n",
        "CLD_SDMC_PARSED_PICKLE_FILE_PATH = 'cld_sdmc_parsed_dict.pkl'  #@param {type:\"string\"}\n",
        "\n",
        "GEMINI_MODEL = 'gemini-1.5-flash-latest'  #@param {type:\"string\"}\n",
        "GEMINI_API_KEY = ''  #@param {type:\"string\"}"
      ]
    },
    {
      "cell_type": "markdown",
      "metadata": {
        "id": "j-kpqjc-bhNX"
      },
      "source": [
        "# Imports"
      ]
    },
    {
      "cell_type": "code",
      "execution_count": null,
      "metadata": {
        "id": "8mgT0vCQFtwW"
      },
      "outputs": [],
      "source": [
        "import os\n",
        "from uuid import uuid4\n",
        "from io import BytesIO"
      ]
    },
    {
      "cell_type": "code",
      "execution_count": null,
      "metadata": {
        "id": "g9WdiFF0AFrj"
      },
      "outputs": [],
      "source": [
        "import google.generativeai as genai\n",
        "import google.api_core.retry"
      ]
    },
    {
      "cell_type": "code",
      "execution_count": null,
      "metadata": {
        "id": "se5c-pzAf3Ww"
      },
      "outputs": [],
      "source": [
        "from IPython import display"
      ]
    },
    {
      "cell_type": "code",
      "execution_count": null,
      "metadata": {
        "id": "lNgu9cf5f5xI"
      },
      "outputs": [],
      "source": [
        "import os\n",
        "import PIL.Image as Image"
      ]
    },
    {
      "cell_type": "code",
      "execution_count": null,
      "metadata": {
        "id": "6r_ikxxUf7nI"
      },
      "outputs": [],
      "source": [
        "import json\n",
        "import pandas as pd"
      ]
    },
    {
      "cell_type": "code",
      "execution_count": null,
      "metadata": {
        "id": "C0MlyJ_Cxe2G"
      },
      "outputs": [],
      "source": [
        "import pickle\n",
        "import time"
      ]
    },
    {
      "cell_type": "code",
      "execution_count": null,
      "metadata": {
        "id": "Pp1y3cRLTgBl"
      },
      "outputs": [],
      "source": [
        "import re"
      ]
    },
    {
      "cell_type": "markdown",
      "metadata": {
        "id": "hJjd71lDcSUA"
      },
      "source": [
        "# Configure model"
      ]
    },
    {
      "cell_type": "code",
      "execution_count": null,
      "metadata": {
        "id": "rKYy_iSJcOXh"
      },
      "outputs": [],
      "source": [
        "genai.configure(api_key=GEMINI_API_KEY)"
      ]
    },
    {
      "cell_type": "code",
      "execution_count": null,
      "metadata": {
        "id": "7w9R0EJme3Ry"
      },
      "outputs": [],
      "source": [
        "for item in genai.list_models():\n",
        "  print(item.name, \":\", item.display_name)"
      ]
    },
    {
      "cell_type": "code",
      "execution_count": null,
      "metadata": {
        "id": "1t9i4dGZcV12"
      },
      "outputs": [],
      "source": [
        "generation_config = {\n",
        "    \"temperature\": 0,\n",
        "    \"top_p\": 0.95,\n",
        "    \"top_k\": 5,\n",
        "}"
      ]
    },
    {
      "cell_type": "code",
      "execution_count": null,
      "metadata": {
        "id": "V_q28UPocqu1"
      },
      "outputs": [],
      "source": [
        "safety_settings = [\n",
        "  {\n",
        "    \"category\": \"HARM_CATEGORY_HARASSMENT\",\n",
        "    \"threshold\": \"BLOCK_NONE\"\n",
        "  },\n",
        "  {\n",
        "    \"category\": \"HARM_CATEGORY_HATE_SPEECH\",\n",
        "    \"threshold\": \"BLOCK_NONE\"\n",
        "  },\n",
        "  {\n",
        "    \"category\": \"HARM_CATEGORY_SEXUALLY_EXPLICIT\",\n",
        "    \"threshold\": \"BLOCK_NONE\"\n",
        "  },\n",
        "  {\n",
        "    \"category\": \"HARM_CATEGORY_DANGEROUS_CONTENT\",\n",
        "    \"threshold\": \"BLOCK_NONE\"\n",
        "  },\n",
        "]"
      ]
    },
    {
      "cell_type": "code",
      "execution_count": null,
      "metadata": {
        "id": "Nv3hyXLucskm"
      },
      "outputs": [],
      "source": [
        "model = genai.GenerativeModel(model_name=GEMINI_MODEL,\n",
        "                              generation_config=generation_config,\n",
        "                              safety_settings=safety_settings)"
      ]
    },
    {
      "cell_type": "markdown",
      "metadata": {
        "id": "IxB91ewgf_8m"
      },
      "source": [
        "# Read extracted images from research papers"
      ]
    },
    {
      "cell_type": "code",
      "execution_count": null,
      "metadata": {
        "id": "5eFMyuIC61c5"
      },
      "outputs": [],
      "source": [
        "files = gfile.ListDirectory(IMAGES_DIRECTORY_PATH)"
      ]
    },
    {
      "cell_type": "code",
      "execution_count": null,
      "metadata": {
        "id": "ePrdnC-hZ8j8"
      },
      "outputs": [],
      "source": [
        "len(files)"
      ]
    },
    {
      "cell_type": "markdown",
      "metadata": {
        "id": "-Z5oTelJpFSK"
      },
      "source": [
        "## Override files for testing"
      ]
    },
    {
      "cell_type": "code",
      "execution_count": null,
      "metadata": {
        "id": "iJThOWG82DSk"
      },
      "outputs": [],
      "source": [
        "# files = files[:10]\n",
        "# files"
      ]
    },
    {
      "cell_type": "markdown",
      "metadata": {
        "id": "tgZSOVJvfYLF"
      },
      "source": [
        "# Classify CLD, SFD, None"
      ]
    },
    {
      "cell_type": "markdown",
      "metadata": {
        "id": "A0u_-K-dgLye"
      },
      "source": [
        "## Few-shot examples for prompting"
      ]
    },
    {
      "cell_type": "code",
      "execution_count": null,
      "metadata": {
        "id": "4I87nORpot47"
      },
      "outputs": [],
      "source": [
        "sdmc_prompt1_image_path = os.path.join(FEW_SHOT_IMAGES_DIRECTORY_PATH, 'O1123_page3_img0.png')\n",
        "sdmc_prompt1_image = Image.open(sdmc_prompt1_image_path, 'rb')"
      ]
    },
    {
      "cell_type": "code",
      "execution_count": null,
      "metadata": {
        "id": "jeIFkkJ3qLJ-"
      },
      "outputs": [],
      "source": [
        "sdmc_prompt1 = \"causal_loop_diagram\""
      ]
    },
    {
      "cell_type": "code",
      "execution_count": null,
      "metadata": {
        "id": "VPLjIgJHrxNT"
      },
      "outputs": [],
      "source": [
        "sdmc_prompt2_image_path = os.path.join(FEW_SHOT_IMAGES_DIRECTORY_PATH, 'P1105_page9_img0.png')\n",
        "sdmc_prompt2_image = Image.open(sdmc_prompt2_image_path, 'rb')"
      ]
    },
    {
      "cell_type": "code",
      "execution_count": null,
      "metadata": {
        "id": "UE6Vkju1r1XG"
      },
      "outputs": [],
      "source": [
        "sdmc_prompt2 = \"stock_and_flow_diagram\""
      ]
    },
    {
      "cell_type": "code",
      "execution_count": null,
      "metadata": {
        "id": "d_Oz-Qj2rjGU"
      },
      "outputs": [],
      "source": [
        "sdmc_prompt3_image_path = os.path.join(FEW_SHOT_IMAGES_DIRECTORY_PATH, 'P1105_page11_img0.png')\n",
        "sdmc_prompt3_image = Image.open(sdmc_prompt3_image_path, 'rb')"
      ]
    },
    {
      "cell_type": "code",
      "execution_count": null,
      "metadata": {
        "id": "1F0J7v2Yrrcj"
      },
      "outputs": [],
      "source": [
        "sdmc_prompt3 = \"causal_loop_diagram\""
      ]
    },
    {
      "cell_type": "code",
      "execution_count": null,
      "metadata": {
        "id": "FgpUQ5Akr7Pi"
      },
      "outputs": [],
      "source": [
        "sdmc_prompt4_image_path = os.path.join(FEW_SHOT_IMAGES_DIRECTORY_PATH, 'P1105_page4_img0.png')\n",
        "sdmc_prompt4_image = Image.open(sdmc_prompt4_image_path, 'rb')"
      ]
    },
    {
      "cell_type": "code",
      "execution_count": null,
      "metadata": {
        "id": "y47Uxq7nr7Pt"
      },
      "outputs": [],
      "source": [
        "sdmc_prompt4 = \"none\""
      ]
    },
    {
      "cell_type": "code",
      "execution_count": null,
      "metadata": {
        "id": "spWnuknMsAKh"
      },
      "outputs": [],
      "source": [
        "sdmc_prompt5_image_path = os.path.join(FEW_SHOT_IMAGES_DIRECTORY_PATH, 'P1114_page26_img1.png')\n",
        "sdmc_prompt5_image = Image.open(sdmc_prompt5_image_path, 'rb')"
      ]
    },
    {
      "cell_type": "code",
      "execution_count": null,
      "metadata": {
        "id": "UEy-YYnpsAKh"
      },
      "outputs": [],
      "source": [
        "sdmc_prompt5 = \"none\""
      ]
    },
    {
      "cell_type": "markdown",
      "metadata": {
        "id": "m-4ucS9mgVbo"
      },
      "source": [
        "## Build and test prompt"
      ]
    },
    {
      "cell_type": "code",
      "execution_count": null,
      "metadata": {
        "id": "5IwrbwIEIrCf"
      },
      "outputs": [],
      "source": [
        "sdmc_target_prompt = \"\"\"**Image Classification Prompt**\n",
        "\n",
        "Please analyze the provided image and classify it based on the following categories:\n",
        "\n",
        "* **causal_loop_diagram:** If the image primarily depicts variables connected by arrows indicating cause-and-effect relationships, often with positive (+) and negative (-) signs to denote reinforcing or balancing loops. It does not contain any elements from the stock and flow diagram (example: it will not contain even a single stock or flow element).\n",
        "* **stock_and_flow_diagram:** If the image showcases stocks (represented by rectangles) and flows (represented by arrows) illustrating the accumulation and transfer of quantities or resources over time.\n",
        "* **none:** If the image does not fit any of the above descriptions and does not represent a diagram commonly used in systems thinking or dynamic modeling.\n",
        "\n",
        "**Please respond with ONLY the most accurate classification from the list above. Reply with \"type\" and \"reasoning\". Do not include any additional text.**\n",
        "\n",
        "Example:\n",
        "\n",
        "* If the image is a causal loop diagram, respond with\n",
        "type: \"causal_loop_diagram\".\n",
        "reasoning: \u003cyour reasoning here\u003e.\"\"\""
      ]
    },
    {
      "cell_type": "code",
      "execution_count": null,
      "metadata": {
        "id": "hUKuuaiKhVCR"
      },
      "outputs": [],
      "source": [
        "sdmc_target_test_image_path = os.path.join(FEW_SHOT_IMAGES_DIRECTORY_PATH, 'P1116_page2_img1.png')\n",
        "sdmc_target_test_image = Image.open(sdmc_target_test_image_path, 'rb')\n",
        "sdmc_test_prompt_all = [\n",
        "    sdmc_prompt1, sdmc_prompt1_image,\n",
        "    sdmc_prompt2, sdmc_prompt2_image,\n",
        "    sdmc_prompt3, sdmc_prompt3_image,\n",
        "    sdmc_prompt4, sdmc_prompt4_image,\n",
        "    sdmc_prompt5, sdmc_prompt5_image,\n",
        "    sdmc_target_prompt, sdmc_target_test_image\n",
        "]\n",
        "display.display(sdmc_target_test_image)\n",
        "response = model.generate_content(sdmc_test_prompt_all)\n",
        "print(response.text)"
      ]
    },
    {
      "cell_type": "markdown",
      "metadata": {
        "id": "uzaXdkEUVID2"
      },
      "source": [
        "## Execute"
      ]
    },
    {
      "cell_type": "code",
      "execution_count": null,
      "metadata": {
        "id": "VcLQaS0cTSxG"
      },
      "outputs": [],
      "source": [
        "# Rate limiting parameters\n",
        "REQUESTS_PER_MINUTE = 140\n",
        "SECONDS_PER_MINUTE = 60\n",
        "\n",
        "def generate_content_with_rate_limit(model, prompt, request_options=None):\n",
        "  \"\"\"Generates content with rate limiting.\"\"\"\n",
        "  global last_request_time\n",
        "  while time.time() - last_request_time \u003c SECONDS_PER_MINUTE / REQUESTS_PER_MINUTE:\n",
        "    time.sleep(0.01)  # Sleep briefly to avoid busy waiting\n",
        "\n",
        "  try:\n",
        "    response = model.generate_content(prompt, request_options=request_options)\n",
        "    last_request_time = time.time()\n",
        "    return response\n",
        "  except Exception as e:\n",
        "    print(f\"Error during generation: {e}\")\n",
        "    return None\n",
        "\n",
        "\n",
        "last_request_time = 0  # Track the last request time"
      ]
    },
    {
      "cell_type": "code",
      "execution_count": null,
      "metadata": {
        "id": "eZTT5MjVDZ0g"
      },
      "outputs": [],
      "source": [
        "files_sdmc_dict = {}\n",
        "try:\n",
        "    with open(SDMC_PICKLE_FILE_PATH, 'rb') as f:\n",
        "        files_sdmc_dict = pickle.load(f)\n",
        "except:\n",
        "    pass\n",
        "\n",
        "start_index = len(files_sdmc_dict)\n",
        "\n",
        "# Counter for processed files\n",
        "processed_files_count = 0\n",
        "\n",
        "for i, file in enumerate(files[start_index:]):\n",
        "    sdmc_target_image_path = os.path.join(IMAGES_DIRECTORY_PATH, file)\n",
        "    try:\n",
        "        sdmc_target_image = Image.open(sdmc_target_image_path, 'rb')\n",
        "        sdmc_prompt_all = [\n",
        "            sdmc_prompt1, sdmc_prompt1_image,\n",
        "            sdmc_prompt2, sdmc_prompt2_image,\n",
        "            sdmc_prompt3, sdmc_prompt3_image,\n",
        "            sdmc_prompt4, sdmc_prompt4_image,\n",
        "            sdmc_prompt5, sdmc_prompt5_image,\n",
        "            sdmc_target_prompt, sdmc_target_image\n",
        "        ]\n",
        "        response = generate_content_with_rate_limit(\n",
        "            model, sdmc_prompt_all,\n",
        "            request_options={\n",
        "                'retry': google.api_core.retry.Retry(deadline=600)\n",
        "            }\n",
        "        )\n",
        "\n",
        "        if response:\n",
        "          files_sdmc_dict[file] = response.text\n",
        "          processed_files_count += 1\n",
        "\n",
        "          # Dump to pickle every 1000 files in case of a crash\n",
        "          if processed_files_count % 1000 == 0 :\n",
        "              with open(SDMC_PICKLE_FILE_PATH, 'wb') as f:\n",
        "                  pickle.dump(files_sdmc_dict, f)\n",
        "              print(f\"Saved {processed_files_count} files to {SDMC_PICKLE_FILE_PATH}\")\n",
        "\n",
        "    except Exception as e:\n",
        "        print(f\"Error processing {file}: {e}\")\n",
        "        # Optionally handle the error, e.g., skip the file or retry\n",
        "\n",
        "\n",
        "# Save the remaining files after the loop\n",
        "with open(SDMC_PICKLE_FILE_PATH, 'wb') as f:\n",
        "    pickle.dump(files_sdmc_dict, f)\n",
        "print(f\"Saved remaining files to {SDMC_PICKLE_FILE_PATH}\")"
      ]
    },
    {
      "cell_type": "code",
      "execution_count": null,
      "metadata": {
        "id": "bTvHC2s0bYwD"
      },
      "outputs": [],
      "source": [
        "with open(SDMC_PICKLE_FILE_PATH, 'rb') as f:\n",
        "  loaded_sdmc = pickle.load(f)\n",
        "loaded_sdmc"
      ]
    },
    {
      "cell_type": "markdown",
      "metadata": {
        "id": "03vraIQ7fdba"
      },
      "source": [
        "# Convert CLDs to JSON"
      ]
    },
    {
      "cell_type": "markdown",
      "metadata": {
        "id": "NVMFD9XaUzW3"
      },
      "source": [
        "## Few-shot prompts and images"
      ]
    },
    {
      "cell_type": "code",
      "execution_count": null,
      "metadata": {
        "id": "GVM8OyxXgND5"
      },
      "outputs": [],
      "source": [
        "prompt1_image_path = os.path.join(FEW_SHOT_IMAGES_DIRECTORY_PATH, 'O1123_page3_img0.png')\n",
        "prompt1_image = Image.open(prompt1_image_path, 'rb')"
      ]
    },
    {
      "cell_type": "code",
      "execution_count": null,
      "metadata": {
        "id": "ah_kCXZEdKao"
      },
      "outputs": [],
      "source": [
        "prompt1_annotated_image_path = os.path.join(FEW_SHOT_IMAGES_DIRECTORY_PATH, 'O1123_page3_img0_annotated.png')\n",
        "prompt1_annotated_image = Image.open(prompt1_annotated_image_path, 'rb')"
      ]
    },
    {
      "cell_type": "code",
      "execution_count": null,
      "metadata": {
        "id": "VCEqhxcgdKao"
      },
      "outputs": [],
      "source": [
        "prompt1_annotated = \"\"\"INSTRUCTIONS: The following JSON describes variables, and causal links for the attached causal loop diagram.\n",
        "\n",
        "\"variables\": All nodes in the diagram where one or more causal links (arrows) originate or terminate. These are the core elements that influence or are influenced by other elements in the system. I will ignore any shapes around the text, as some variables are not in a box.\n",
        "\"causal_links\": An array of dictionaries representing all the links in the diagram, where each link consists of only one arrow. There is no link if there is no arrow. The arrow may be a solid line or dashed line. Each dictionary has: 2.1) \"from\": Text at the arrow's start. 2.2) \"to\": Text at the arrow's head. 2.3) \"polarity\": + or - sign, if available The polarity sign may be labeled anywhere on the causal link. If no sign is present, record it as \"unknown.\". I will ignore any coloring and won't make any assumptions about the polarity. 2.4) \"id\": The causal link's ID (generate a unique ID for each causal link).\n",
        "\n",
        "Attached is also an annotated version of the diagram with image segmentation applied. This is an intermediate step to identify all entities before generating the JSON. A variable is a green bouding box, the beginning of a causal link is a blue bounding box, the end of a causal link is a red bounding box, polarity is a burgundy bounding circle.\n",
        "\n",
        "  JSON OUTPUT:\n",
        "    {\n",
        "      \"variables\": [\"climate impact Dutch energy system\", \"energy intensity society\", \"sustainable economic activities\", \"sustainable innovation\", \"effective climate policies\", \"climate intensity energy mix\"\"],\n",
        "      \"causal_links\": [\n",
        "        {\n",
        "          \"id\": \"1234\",\n",
        "          \"from\": \"energy intensity society\",\n",
        "          \"polarity\": \"+\",\n",
        "          \"to\": \"climate impact Dutch energy system\",\n",
        "        },\n",
        "        {\n",
        "          \"id\": \"5678\",\n",
        "          \"from\": \"sustainable economic activities\",\n",
        "          \"polarity\": \"_\",\n",
        "          \"to\": \"energy intensity society\",\n",
        "        },\n",
        "        {\n",
        "          \"id\": \"9012\",\n",
        "          \"from\": \"sustainable innovation\",\n",
        "          \"polarity\": \"+\",\n",
        "          \"to\": \"sustainable economic activities\n",
        "        },\n",
        "        {\n",
        "          \"id\": \"3456\",\n",
        "          \"from\": \"effective climate policies\",\n",
        "          \"polarity\": \"+\",\n",
        "          \"to\": \"sustainable innovation\",\n",
        "        },\n",
        "        {\n",
        "          \"id\": \"2345\",\n",
        "          \"from\": \"effective climate policies\",\n",
        "          \"polarity\": \"-\",\n",
        "          \"to\": \"climate intensity energy mix\",\n",
        "        },\n",
        "        {\n",
        "          \"id\": \"4567\",\n",
        "          \"from\": \"climate intensity energy mix\",\n",
        "          \"polarity\": \"+\",\n",
        "          \"to\": \"climate impact Dutch energy system\",\n",
        "        },\n",
        "        {\n",
        "          \"id\": \"6789\",\n",
        "          \"from\": \"effective climate policies\",\n",
        "          \"polarity\": \"+\",\n",
        "          \"to\": \"sustainable economic activities\",\n",
        "        },\n",
        "      ],\n",
        "    }\n",
        "\n",
        "\"\"\""
      ]
    },
    {
      "cell_type": "code",
      "execution_count": null,
      "metadata": {
        "id": "ofZJypFEgogy"
      },
      "outputs": [],
      "source": [
        "prompt2_image_path = os.path.join(FEW_SHOT_IMAGES_DIRECTORY_PATH, 'O1123_page4_img0.png')\n",
        "prompt2_image = Image.open(prompt2_image_path, 'rb')"
      ]
    },
    {
      "cell_type": "code",
      "execution_count": null,
      "metadata": {
        "id": "_aLI0U4adC8j"
      },
      "outputs": [],
      "source": [
        "prompt2_annotated_image_path = os.path.join(FEW_SHOT_IMAGES_DIRECTORY_PATH, 'O1123_page4_img0_annotated.png')\n",
        "prompt2_annotated_image = Image.open(prompt2_annotated_image_path, 'rb')"
      ]
    },
    {
      "cell_type": "code",
      "execution_count": null,
      "metadata": {
        "id": "fBpQRZaYdC8j"
      },
      "outputs": [],
      "source": [
        "prompt2_annotated = \"\"\"INSTRUCTIONS: The following JSON describes variables, and causal links for the attached causal loop diagram.\n",
        "\n",
        "\"variables\": All nodes in the diagram where one or more causal links (arrows) originate or terminate. These are the core elements that influence or are influenced by other elements in the system. I will ignore any shapes around the text, as some variables are not in a box.\n",
        "\"causal_links\": An array of dictionaries representing all the links in the diagram, where each link consists of only one arrow. There is no link if there is no arrow. The arrow may be a solid line or dashed line. Each dictionary has: 2.1) \"from\": Text at the arrow's start. 2.2) \"to\": Text at the arrow's head. 2.3) \"polarity\": + or - sign, if available The polarity sign may be labeled anywhere on the causal link. If no sign is present, record it as \"unknown.\". I will ignore any coloring and won't make any assumptions about the polarity. 2.4) \"id\": The causal link's ID (generate a unique ID for each causal link).\n",
        "\n",
        "Attached is also an annotated version of the diagram with image segmentation applied. This is an intermediate step to identify all entities before generating the JSON. A variable is a green bouding box, the beginning of a causal link is a blue bounding box, the end of a causal link is a red bounding box, polarity is a burgundy bounding circle.\n",
        "\n",
        "  JSON OUTPUT:\n",
        "    {\n",
        "      \"variables\": [\"sustainable economic activities\", \"value of fossil assets\", \"capacity to change\", \"effective climate policies\", \"sustainable innovation\", \"agility of firms\", \"trust in government\", \"perceived fairness of the energy transition\", \"perceived urgency climate mitigation\", \"societal support for effective climate policies\"],\n",
        "      \"causal_links\": [\n",
        "        {\n",
        "          \"from\": \"sustainable economic activities\",\n",
        "          \"polarity\": \"-\",\n",
        "          \"to\": \"value of fossil assets\",\n",
        "          \"id\": \"1234\",\n",
        "        },\n",
        "        {\n",
        "          \"from\": \"value of fossil assets\",\n",
        "          \"polarity\": \"-\",\n",
        "          \"to\": \"agility of firms\",\n",
        "          \"id\": \"5678\",\n",
        "        },\n",
        "        {\n",
        "          \"from\": \"agility of firms\",\n",
        "          \"polarity\": \"+\",\n",
        "          \"to\": \"sustainable economic activities\"\n",
        "          \"id\": \"9012\",\n",
        "        },\n",
        "        {\n",
        "          \"from\": \"value of fossil assets\",\n",
        "          \"polarity\": \"-\",\n",
        "          \"to\": \"capacity to change\",\n",
        "          \"id\": \"2345\",\n",
        "        },\n",
        "        {\n",
        "          \"from\": \"capacity to change\",\n",
        "          \"polarity\": \"+\",\n",
        "          \"to\": \"effective climate policies\"\n",
        "          \"id\": \"4567\",\n",
        "        },\n",
        "        {\n",
        "          \"from\": \"effective climate policies\",\n",
        "          \"polarity\": \"+\",\n",
        "          \"to\": \"sustainable economic activities\"\n",
        "          \"id\": \"6789\",\n",
        "        },\n",
        "        {\n",
        "          \"from\": \"effective climate policies\",\n",
        "          \"polarity\": \"+\",\n",
        "          \"to\": \"trust in government\"\n",
        "          \"id\": \"3456\",\n",
        "        },\n",
        "        {\n",
        "          \"from\": \"trust in government\",\n",
        "          \"polarity\": \"+\",\n",
        "          \"to\": \"perceived fairness of the energy transition\"\n",
        "          \"id\": \"3824\",\n",
        "        },\n",
        "        {\n",
        "          \"from\": \"perceived fairness of the energy transition\",\n",
        "          \"polarity\": \"+\",\n",
        "          \"to\": \"societal support for effective climate policies\",\n",
        "          \"id\": \"2343\",\n",
        "        },\n",
        "        {\n",
        "          \"from\": \"societal support for effective climate policies\",\n",
        "          \"polarity\": \"+\",\n",
        "          \"to\": \"effective climate policies\",\n",
        "          \"id\": \"6786\",\n",
        "        },\n",
        "        {\n",
        "          \"from\": \"perceived urgency climate mitigation\",\n",
        "          \"polarity\": \"+\",\n",
        "          \"to\": \"societal support for effective climate policies\",\n",
        "          \"id\": \"2344\",\n",
        "        },\n",
        "      ]\n",
        "    }\n",
        "\n",
        "\"\"\""
      ]
    },
    {
      "cell_type": "code",
      "execution_count": null,
      "metadata": {
        "id": "YgUfsuKCg0j-"
      },
      "outputs": [],
      "source": [
        "prompt3_image_path = os.path.join(FEW_SHOT_IMAGES_DIRECTORY_PATH, 'P1050_page4_img1.png')\n",
        "prompt3_image = Image.open(prompt3_image_path, mode='rb')"
      ]
    },
    {
      "cell_type": "code",
      "execution_count": null,
      "metadata": {
        "id": "szDuJIpYLyDQ"
      },
      "outputs": [],
      "source": [
        "prompt3_annotated_image_path = os.path.join(FEW_SHOT_IMAGES_DIRECTORY_PATH, 'P1050_page4_img1_annotated.png')\n",
        "prompt3_annotated_image = Image.open(prompt3_annotated_image_path, mode='rb')"
      ]
    },
    {
      "cell_type": "code",
      "execution_count": null,
      "metadata": {
        "id": "f32_nmzrLyDR"
      },
      "outputs": [],
      "source": [
        "prompt3_annotated = \"\"\"INSTRUCTIONS: The following JSON describes variables, and causal links for the attached causal loop diagram.\n",
        "\n",
        "\"variables\": All nodes in the diagram where one or more causal links (arrows) originate or terminate. These are the core elements that influence or are influenced by other elements in the system. I will ignore any shapes around the text, as some variables are not in a box.\n",
        "\"causal_links\": An array of dictionaries representing all the links in the diagram, where each link consists of only one arrow. There is no link if there is no arrow. The arrow may be a solid line or dashed line. Each dictionary has: 2.1) \"from\": Text at the arrow's start. 2.2) \"to\": Text at the arrow's head. 2.3) \"polarity\": + or - sign, if available The polarity sign may be labeled anywhere on the causal link. If no sign is present, record it as \"unknown.\". I will ignore any coloring and won't make any assumptions about the polarity. 2.4) \"id\": The causal link's ID (generate a unique ID for each causal link).\n",
        "\n",
        "Attached is also an annotated version of the diagram with image segmentation applied. This is an intermediate step to identify all entities before generating the JSON. A variable is a green bouding box, the beginning of a causal link is a blue bounding box, the end of a causal link is a red bounding box, polarity is a burgundy bounding circle.\n",
        "\n",
        "  JSON OUTPUT:\n",
        "    {\n",
        "      \"variables\": [\"Health care provided to low income population\", \"Nonprofit hospitals in affluent areas\", \"Population access to private insurance\", \"Nonprofit hospitals in low income areas\", Hospital revenue\", \"Tax breaks from nonprofit status\"],\n",
        "      \"causal_links\": [\n",
        "        {\n",
        "          \"id\": \"1234\",\n",
        "          \"from\": \"Nonprofit hospitals in low income areas\",\n",
        "          \"polarity\": \"+\",\n",
        "          \"to\": \"Health care provided to low income population\"\n",
        "        },\n",
        "        {\n",
        "          \"id\": \"5678\",\n",
        "          \"from\": \"Health care provided to low income population\",\n",
        "          \"polarity\": \"-\",\n",
        "          \"to\": Hospital revenue\"\n",
        "        },\n",
        "        {\n",
        "          \"id\": \"9012\",\n",
        "          \"from\": \"Hospital revenue\",\n",
        "          \"polarity\": \"+\",\n",
        "          \"to\": \"Nonprofit hospitals in low income areas\"\n",
        "        },\n",
        "        {\n",
        "          \"id\": \"4567\",\n",
        "          \"from\": \"Nonprofit hospitals in affluent areas\",\n",
        "          \"polarity\": \"-\",\n",
        "          \"to\": \"Health care provided to low income population\"\n",
        "        },\n",
        "        {\n",
        "          \"id\": \"3456\",\n",
        "          \"from\": \"Hospital revenue\",\n",
        "          \"polarity\": \"+\",\n",
        "          \"to\": \"Nonprofit hospitals in affluent areas\"\n",
        "        },\n",
        "        {\n",
        "          \"id\": \"3824\",\n",
        "          \"from\": \"Nonprofit hospitals in affluent areas\",\n",
        "          \"polarity\": \"+\",\n",
        "          \"to\": \"Population access to private insurance\"\n",
        "        },\n",
        "        {\n",
        "          \"id\": \"2343\",\n",
        "          \"from\": \"Population access to private insurance\",\n",
        "          \"polarity\": \"+\",\n",
        "          \"to\": \"Hospital revenue\"\n",
        "        },\n",
        "        {\n",
        "          \"id\": \"3453\",\n",
        "          \"from\": \"Nonprofit hospitals in low income areas\",\n",
        "          \"polarity\": \"-\",\n",
        "          \"to\": \"Population access to private insurance\"\n",
        "        },\n",
        "        {\n",
        "          \"id\": \"2949\",\n",
        "          \"from\": \"Tax breaks from nonprofit status\",\n",
        "          \"polarity\": \"+\",\n",
        "          \"to\": \"Hospital revenue\"\n",
        "        },\n",
        "      ],\n",
        "    }\n",
        "\n",
        "\"\"\""
      ]
    },
    {
      "cell_type": "markdown",
      "metadata": {
        "id": "fE-gazfGVAh4"
      },
      "source": [
        "### Build and test prompt"
      ]
    },
    {
      "cell_type": "code",
      "execution_count": null,
      "metadata": {
        "id": "1sQBBLJ6HTyZ"
      },
      "outputs": [],
      "source": [
        "cld_sdmc_target_prompt = \"\"\"\n",
        "TASK: Now let's solve this step-by-step. Analyze the attached causal loop diagram, generate a segmentated image with colored bounding boxes identifying the different types of entities, and use that to provide your JSON response following the structure.\n",
        "Provide reasoning, for each step in the step by step reasoning field after the JSON response. Verify that the number of elements you provide matches the number of elements you count in the diagram.\n",
        "\"\"\""
      ]
    },
    {
      "cell_type": "code",
      "execution_count": null,
      "metadata": {
        "id": "vNXyYnfCzrRC"
      },
      "outputs": [],
      "source": [
        "target_image = Image.open(os.path.join(FEW_SHOT_IMAGES_DIRECTORY_PATH, 'S1240_page4_img0.png'), \"rb\")\n",
        "\n",
        "prompt_annotated = [\n",
        "  prompt1_annotated, prompt1_image, prompt1_annotated_image,\n",
        "  prompt2_annotated, prompt2_image, prompt2_annotated_image,\n",
        "  prompt3_annotated, prompt3_image, prompt3_annotated_image,\n",
        "  cld_sdmc_target_prompt, target_image\n",
        "]\n",
        "\n",
        "response = model.generate_content(prompt_annotated,\n",
        "                                  request_options={\n",
        "                                      'retry': google.api_core.retry.Retry(deadline=600)\n",
        "                                  })\n",
        "\n",
        "display.display(target_image)\n",
        "print(response.text)\n",
        "for part in response.parts:\n",
        "  if \"inline_data\" in part:\n",
        "    print(part.inline_data)"
      ]
    },
    {
      "cell_type": "markdown",
      "metadata": {
        "id": "_2ux6aiWVK6M"
      },
      "source": [
        "## Execute"
      ]
    },
    {
      "cell_type": "code",
      "execution_count": null,
      "metadata": {
        "id": "EKDtjcTeTitd"
      },
      "outputs": [],
      "source": [
        "JSON_PATTERN = re.compile(r'.*```json\\n(.*)\\n```.*', re.S)"
      ]
    },
    {
      "cell_type": "code",
      "execution_count": null,
      "metadata": {
        "id": "Surwcv9YWBUw"
      },
      "outputs": [],
      "source": [
        "filtered_cld_sdmc_dict = {k:v for (k, v) in files_sdmc_dict.items() if \"causal_loop_diagram\" in v}"
      ]
    },
    {
      "cell_type": "code",
      "execution_count": null,
      "metadata": {
        "id": "wLEa6if0AxTJ"
      },
      "outputs": [],
      "source": [
        "error_count = 0\n",
        "cld_sdmc_parsed_dict = {}\n",
        "\n",
        "try:\n",
        "  cld_sdmc_parsed_dict = pickle.load(CLD_SDMC_PARSED_PICKLE_FILE_PATH)\n",
        "except:\n",
        "  pass\n",
        "\n",
        "for file in filtered_cld_sdmc_dict.keys():\n",
        "  if file in cld_sdmc_parsed_dict and cld_sdmc_parsed_dict[file] != \"504 Deadline Exceeded\":\n",
        "    print(f\"Skipping already processed file: {file}\")\n",
        "    continue\n",
        "  else:\n",
        "    print(f\"Processing file: {file}\")\n",
        "\n",
        "  data_dict = {}\n",
        "  target_image_path = os.path.join(IMAGES_DIRECTORY_PATH, file)\n",
        "  try:\n",
        "    target_image = Image.open(target_image_path, \"rb\")\n",
        "\n",
        "    prompt_annotated = [\n",
        "      prompt1_annotated, prompt1_image, prompt1_annotated_image,\n",
        "      prompt2_annotated, prompt2_image, prompt2_annotated_image,\n",
        "      prompt3_annotated, prompt3_image, prompt3_annotated_image,\n",
        "      cld_sdmc_target_prompt, target_image\n",
        "    ]\n",
        "\n",
        "    response = model.generate_content(prompt_annotated,\n",
        "                                      request_options={\n",
        "                                          'retry': google.api_core.retry.Retry(deadline=600)\n",
        "                                      })\n",
        "    # disable for batch run\n",
        "    # display.display(target_image)\n",
        "    # print(response.text)\n",
        "    # for part in response.parts:\n",
        "    #   if \"inline_data\" in part:\n",
        "    #     print(part.inline_data)\n",
        "\n",
        "    json_string = response.text\n",
        "    json_string_match = JSON_PATTERN.match(json_string)\n",
        "    if json_string_match:\n",
        "      json_string = json_string_match.group(1)\n",
        "\n",
        "    data_dict = json.loads(json_string)\n",
        "    cld_sdmc_parsed_dict[file] = data_dict\n",
        "\n",
        "    error_count = 0\n",
        "  except Exception as e:\n",
        "    print(file)\n",
        "    print(e)\n",
        "    cld_sdmc_parsed_dict[file] = str(e)\n",
        "\n",
        "    if str(e) == \"504 Deadline Exceeded\":\n",
        "      error_count += 1\n",
        "      if error_count == 10:\n",
        "        print('Too many deadline exceeded errors. Waiting 30 mins before retry.')\n",
        "        time.sleep(1800)\n",
        "        error_count += 1\n",
        "      if error_count == 11:\n",
        "        print('Too many deadline exceeded errors even after 30 mins backoff. Exiting')\n",
        "        break\n",
        "\n",
        "# Save parsed CLDs\n",
        "with open(CLD_SDMC_PARSED_PICKLE_FILE_PATH, 'wb') as f:\n",
        "    pickle.dump(cld_sdmc_parsed_dict, f)\n",
        "print(f\"Saved parsed CLDs to {CLD_SDMC_PARSED_PICKLE_FILE_PATH}\")"
      ]
    },
    {
      "cell_type": "code",
      "execution_count": null,
      "metadata": {
        "id": "TsTom9bC6Wbq"
      },
      "outputs": [],
      "source": [
        "with open(CLD_SDMC_PARSED_PICKLE_FILE_PATH, 'rb') as f:\n",
        "  loaded_cld_sdmc = pickle.load(f)\n",
        "loaded_cld_sdmc"
      ]
    }
  ],
  "metadata": {
    "colab": {
      "last_runtime": {
        "build_target": "",
        "kind": "local"
      },
      "provenance": [
        {
          "file_id": "1llGlHed5ZS8m1xXoU_200Zqnlj7EwVy3",
          "timestamp": 1731634476204
        },
        {
          "file_id": "1xUQ60qSd47xuOUM0hmao_m0ydCkr2xe5",
          "timestamp": 1727798775699
        }
      ]
    },
    "kernelspec": {
      "display_name": "Python 3",
      "name": "python3"
    },
    "language_info": {
      "name": "python"
    }
  },
  "nbformat": 4,
  "nbformat_minor": 0
}
