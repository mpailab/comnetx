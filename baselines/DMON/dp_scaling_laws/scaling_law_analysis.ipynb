{
  "cells": [
    {
      "cell_type": "code",
      "execution_count": null,
      "metadata": {
        "id": "jVkrjxDLmas_"
      },
      "outputs": [],
      "source": [
        "# Copyright 2024 The Google Research Authors.\n",
        "#\n",
        "# Licensed under the Apache License, Version 2.0 (the \"License\");\n",
        "# you may not use this file except in compliance with the License.\n",
        "# You may obtain a copy of the License at\n",
        "#\n",
        "#     http://www.apache.org/licenses/LICENSE-2.0\n",
        "#\n",
        "# Unless required by applicable law or agreed to in writing, software\n",
        "# distributed under the License is distributed on an \"AS IS\" BASIS,\n",
        "# WITHOUT WARRANTIES OR CONDITIONS OF ANY KIND, either express or implied.\n",
        "# See the License for the specific language governing permissions and\n",
        "# limitations under the License.\n",
        "\n",
        "import functools\n",
        "import itertools\n",
        "\n",
        "from ipywidgets import interact, widgets\n",
        "import matplotlib.pyplot as plt\n",
        "import numpy as np\n",
        "import pandas as pd\n",
        "import scipy\n",
        "\n",
        "from . import nonparametric\n",
        "from . import plotting\n",
        "from . import semiparametric\n",
        "from . import smoothing"
      ]
    },
    {
      "cell_type": "markdown",
      "metadata": {
        "id": "HZRt3QRSvo3-"
      },
      "source": [
        "# Scaling Laws"
      ]
    },
    {
      "cell_type": "code",
      "execution_count": null,
      "metadata": {
        "id": "76YWk4XHZDLk"
      },
      "outputs": [],
      "source": [
        "MIN_BATCH_SIZE = 1024\n",
        "MIN_ITERS = 1000\n",
        "MIN_MODEL_SIZE = 4e6\n",
        "MAX_MODEL_SIZE = 335e6\n",
        "MAX_ITERS = 128000\n",
        "BIG_BATCH_SIZE = 2**20\n",
        "min_compute_budget = (\n",
        "    6\n",
        "    * MIN_MODEL_SIZE\n",
        "    * MIN_ITERS\n",
        "    * MIN_BATCH_SIZE\n",
        "    * nonparametric._SEQUENCE_LENGTH\n",
        ")\n",
        "max_compute_budget = (\n",
        "    6\n",
        "    * MAX_MODEL_SIZE\n",
        "    * MAX_ITERS\n",
        "    * BIG_BATCH_SIZE\n",
        "    * nonparametric._SEQUENCE_LENGTH\n",
        ")\n",
        "\n",
        "REASONABLE_COMPUTE_BUDGETS = np.logspace(\n",
        "    np.log2(min_compute_budget), np.log2(max_compute_budget), base=2, num=100\n",
        ")"
      ]
    },
    {
      "cell_type": "markdown",
      "metadata": {
        "id": "ojkpf1QRTxCf"
      },
      "source": [
        "## Analysis 1 - Diminishing Returns\n",
        "For a fixed User budget + privacy budget, there is an optimal model size even with infinite compute"
      ]
    },
    {
      "cell_type": "code",
      "execution_count": null,
      "metadata": {
        "id": "vq4DiSxQUNaW"
      },
      "outputs": [],
      "source": [
        "PRIVACY_BUDGET = 8\n",
        "USER_BUDGETS = [10**6, 10**7, 10**8, 10**9]\n",
        "\n",
        "results = pd.concat([\n",
        "    nonparametric.scaling_law_query(\n",
        "        user_budget=user_budget,\n",
        "        privacy_budget=PRIVACY_BUDGET,\n",
        "        compute_budget=compute_budget,\n",
        "    ).head(n=1)\n",
        "    for compute_budget in REASONABLE_COMPUTE_BUDGETS\n",
        "    for user_budget in USER_BUDGETS\n",
        "]).reset_index(drop=True)"
      ]
    },
    {
      "cell_type": "code",
      "execution_count": null,
      "metadata": {
        "id": "ylhkgkMr5r-4"
      },
      "outputs": [],
      "source": [
        "data = (\n",
        "    results.set_index(['Compute Budget', 'Data Budget'])['Cross Entropy']\n",
        "    .unstack()\n",
        "    .expanding()\n",
        "    .min()\n",
        "    .rename(\n",
        "        columns={\n",
        "            10**6: '$10^6$',\n",
        "            10**7: '$10^7$',\n",
        "            10**8: '$10^8$',\n",
        "            10**9: '$10^9$',\n",
        "        }\n",
        "    )\n",
        ")\n",
        "plotting.lineplot(\n",
        "    data,\n",
        "    logx=True,\n",
        "    symbols=[None] * 10,\n",
        "    linestyles=['-', '--', '-.', ':'][::-1],\n",
        ")\n",
        "\n",
        "model_sizes = (\n",
        "    results.set_index([\n",
        "        'Compute Budget',\n",
        "        'Model Size',\n",
        "        'Data Budget',\n",
        "    ])[['Cross Entropy']]\n",
        "    .unstack()\n",
        "    .droplevel(0)\n",
        "    .idxmin()\n",
        "    .values\n",
        ")\n",
        "print(model_sizes)\n",
        "if PRIVACY_BUDGET == 8:\n",
        "  plt.annotate('5.9M', (10**18.5, 4.3), xytext=None, arrowprops=None)\n",
        "  plt.annotate('93M', (10**19.7, 2.8), xytext=None, arrowprops=None)\n",
        "\n",
        "if PRIVACY_BUDGET == 1:\n",
        "  plt.annotate('5.9M', (10**18.5, 4.2), xytext=None, arrowprops=None)\n",
        "  plt.annotate('114M', (10**19.7, 2.8), xytext=None, arrowprops=None)\n",
        "  plt.ylabel('Cross Entropy', fontsize='x-large')\n",
        "\n",
        "plt.xlabel('Compute Budget (FLOPs)', fontsize='x-large')\n",
        "plt.ylim(1, 7)\n",
        "\n",
        "tmp_filename = 'vary_compute_and_user_privacy=%s.pdf' % PRIVACY_BUDGET\n",
        "with open(tmp_filename, 'wb') as fh:\n",
        "  plt.savefig(fh, format='pdf', dpi=300, bbox_inches='tight')"
      ]
    },
    {
      "cell_type": "markdown",
      "metadata": {
        "id": "RLFR3u9xVwWa"
      },
      "source": [
        "## Analysis 2 - Optimal Allocation\n",
        "\n",
        "As a function of privacy budget and number of users, what is the:\n",
        "1. saturating model size (the model size one should use even with infinite compute)\n",
        "2. compute budget of diminishing returns (i.e., compute budget that is within 5% of optimal)"
      ]
    },
    {
      "cell_type": "code",
      "execution_count": null,
      "metadata": {
        "id": "3vOapctq7M7b"
      },
      "outputs": [],
      "source": [
        "PRIVACY_BUDGETS = [1, 4, 16, 64]\n",
        "USER_BUDGETS = [10**6, 10**7, 10**8, 10**9]\n",
        "\n",
        "results = (\n",
        "    pd.concat([\n",
        "        nonparametric.scaling_law_query(\n",
        "            user_budget=user_budget,\n",
        "            privacy_budget=privacy_budget,\n",
        "            compute_budget=compute_budget,\n",
        "        )\n",
        "        for compute_budget in REASONABLE_COMPUTE_BUDGETS\n",
        "        for user_budget in USER_BUDGETS\n",
        "        for privacy_budget in PRIVACY_BUDGETS\n",
        "    ])\n",
        "    .reset_index(drop=True)\n",
        "    .rename(columns={'User Budget': 'Data Budget'})\n",
        ")"
      ]
    },
    {
      "cell_type": "code",
      "execution_count": null,
      "metadata": {
        "id": "ShEweTFcWpjh"
      },
      "outputs": [],
      "source": [
        "def groupby_argmin(df, groupby_cols: list[str], min_col: str):\n",
        "  idx = df.groupby(groupby_cols)[min_col].idxmin()\n",
        "  return df.loc[idx]\n",
        "\n",
        "\n",
        "def groupby_error_bounds(df, groupby_cols: list[str], min_col: str):\n",
        "  def foo(sub):\n",
        "    best = sub[min_col].min()\n",
        "    top = sub[sub[min_col] \u003c= best * 1.02]\n",
        "    return (\n",
        "        top[['Iterations', 'Batch Size', 'Model Size', 'Cross Entropy']]\n",
        "        .describe()\n",
        "        .loc[['min', 'max']]\n",
        "    )\n",
        "\n",
        "  return df.groupby(groupby_cols).apply(foo).unstack()\n",
        "\n",
        "\n",
        "data = groupby_argmin(\n",
        "    results, ['Data Budget', 'Privacy Budget'], 'Cross Entropy'\n",
        ")\n",
        "summary = data.set_index(['Data Budget', 'Privacy Budget'])[[\n",
        "    'Compute Budget',\n",
        "    'Cross Entropy',\n",
        "    'Model Size',\n",
        "    'Iterations',\n",
        "    'Batch Size',\n",
        "]]\n",
        "\n",
        "table = summary['Model Size'].unstack()\n",
        "table.round()"
      ]
    },
    {
      "cell_type": "code",
      "execution_count": null,
      "metadata": {
        "id": "_ORMQvig8nBx"
      },
      "outputs": [],
      "source": [
        "best_points = data = groupby_argmin(\n",
        "    results,\n",
        "    ['Data Budget', 'Compute Budget', 'Privacy Budget'],\n",
        "    'Cross Entropy',\n",
        ").set_index(['Data Budget', 'Compute Budget', 'Privacy Budget'])\n",
        "best_range = groupby_error_bounds(\n",
        "    results,\n",
        "    ['Data Budget', 'Compute Budget', 'Privacy Budget'],\n",
        "    'Cross Entropy',\n",
        ")"
      ]
    },
    {
      "cell_type": "code",
      "execution_count": null,
      "metadata": {
        "id": "hh-wSAVCcPMY"
      },
      "outputs": [],
      "source": [
        "user_budget = 10**9\n",
        "for ylabel in ['Cross Entropy', 'Model Size', 'Batch Size', 'Iterations']:\n",
        "\n",
        "  data = best_points[ylabel].unstack().loc[user_budget][[1, 4, 16, 64]]\n",
        "  if ylabel != 'Cross Entropy':\n",
        "    std = (\n",
        "        best_range[ylabel]\n",
        "        .loc[user_budget]\n",
        "        .stack()\n",
        "        .unstack('Privacy Budget')\n",
        "        .unstack()\n",
        "    )\n",
        "    data = std.xs('min', level=1, axis=1)\n",
        "\n",
        "  else:\n",
        "    std = None\n",
        "\n",
        "  logy = ylabel != 'Cross Entropy'\n",
        "  plotting.lineplot(\n",
        "      data,\n",
        "      std=std,\n",
        "      logx=True,\n",
        "      logy=logy,\n",
        "      symbols=[None] * 10,\n",
        "      fill_between=True,\n",
        "      linestyles=['-', '--', '-.', ':'][::-1],\n",
        "  )\n",
        "  # plt.title('Data Budget: %s' % user_budget)\n",
        "  plt.xlabel('Compute Budget')\n",
        "  plt.ylabel(ylabel)\n",
        "  if ylabel == 'Model Size':\n",
        "    plt.yticks(list(nonparametric._MODEL_SIZES.values()))\n",
        "\n",
        "  tmp_filename = 'optimal_%s_%dusers.pdf' % (ylabel, user_budget)\n",
        "  with open(tmp_filename, 'wb') as fh:\n",
        "    plt.savefig(fh, format='pdf', dpi=300, bbox_inches='tight')"
      ]
    },
    {
      "cell_type": "markdown",
      "metadata": {
        "id": "Dc80ZftKgpnU"
      },
      "source": [
        "## Analyis 3 - Saturating Compute Budget Table"
      ]
    },
    {
      "cell_type": "code",
      "execution_count": null,
      "metadata": {
        "id": "n6EE1Te2gsp8"
      },
      "outputs": [],
      "source": [
        "PRIVACY_BUDGETS = [1, 4, 16, 64]\n",
        "USER_BUDGETS = [10**5, 10**6, 10**7, 10**8, 10**9]\n",
        "\n",
        "results = pd.concat([\n",
        "    nonparametric.scaling_law_query(\n",
        "        user_budget=user_budget,\n",
        "        privacy_budget=privacy_budget,\n",
        "        compute_budget=compute_budget,\n",
        "    ).head(n=1)\n",
        "    for compute_budget in REASONABLE_COMPUTE_BUDGETS\n",
        "    for user_budget in USER_BUDGETS\n",
        "    for privacy_budget in PRIVACY_BUDGETS\n",
        "]).reset_index(drop=True)"
      ]
    },
    {
      "cell_type": "code",
      "execution_count": null,
      "metadata": {
        "id": "CwWFlQ1v8LSd"
      },
      "outputs": [],
      "source": [
        "# Find the minimum compute budget that gets within 1% of optimal xent\n",
        "\n",
        "\n",
        "def find_saturating_config(df):\n",
        "  best = df['Cross Entropy'].min()\n",
        "  return (\n",
        "      df[df['Cross Entropy'] \u003c= 1.01 * best]\n",
        "      .sort_values('Compute Budget')\n",
        "      .iloc[0]\n",
        "  )\n",
        "\n",
        "\n",
        "summary = results.groupby(['Data Budget', 'Privacy Budget']).apply(\n",
        "    find_saturating_config\n",
        ")\n",
        "summary['Tokens'] = (\n",
        "    summary['Batch Size']\n",
        "    * summary['Iterations']\n",
        "    * nonparametric._SEQUENCE_LENGTH\n",
        ")\n",
        "summary['Ratio'] = summary['Tokens'] / summary['Model Size']\n",
        "\n",
        "cols = [\n",
        "    'Compute Budget',\n",
        "    'Cross Entropy',\n",
        "    'Model Size',\n",
        "    'Iterations',\n",
        "    'Batch Size',\n",
        "    'Tokens',\n",
        "    'Ratio',\n",
        "]\n",
        "summary[cols]"
      ]
    },
    {
      "cell_type": "markdown",
      "metadata": {
        "id": "ivel8wAIDOvj"
      },
      "source": [
        "# Analysis 4 - What is the optimal Token / Model Ratio"
      ]
    },
    {
      "cell_type": "code",
      "execution_count": null,
      "metadata": {
        "id": "Lp15wBO_DU1L"
      },
      "outputs": [],
      "source": [
        "PRIVACY_BUDGETS = [10**k for k in range(7)]\n",
        "USER_BUDGETS = [10**7]\n",
        "COARSE_COMPUTE_BUDGETS = np.logspace(16, 23, num=2 * (23 - 16 + 1) - 1)\n",
        "\n",
        "results = pd.concat([\n",
        "    nonparametric.scaling_law_query(\n",
        "        user_budget=user_budget,\n",
        "        privacy_budget=privacy_budget,\n",
        "        compute_budget=compute_budget,\n",
        "    )\n",
        "    for compute_budget in COARSE_COMPUTE_BUDGETS\n",
        "    for user_budget in USER_BUDGETS\n",
        "    for privacy_budget in PRIVACY_BUDGETS\n",
        "]).reset_index(drop=True)"
      ]
    },
    {
      "cell_type": "code",
      "execution_count": null,
      "metadata": {
        "id": "FyXSz6PtEBn5"
      },
      "outputs": [],
      "source": [
        "def groupby_argmin(df, groupby_cols: list[str], min_col: str):\n",
        "  idx = df.groupby(groupby_cols)[min_col].idxmin()\n",
        "  return df.loc[idx]\n",
        "\n",
        "\n",
        "def groupby_error_bounds(df, groupby_cols: list[str], min_col: str):\n",
        "  def foo(sub):\n",
        "    best = sub[min_col].min()\n",
        "    top = sub[sub[min_col] \u003c= best * 1.02]\n",
        "    return (\n",
        "        top[['Iterations', 'Batch Size', 'Model Size', 'Token Model Ratio']]\n",
        "        .describe()\n",
        "        .loc[['min', 'max']]\n",
        "    )\n",
        "\n",
        "  return df.groupby(groupby_cols).apply(foo).unstack()\n",
        "\n",
        "\n",
        "summary = groupby_argmin(\n",
        "    results,\n",
        "    ['Data Budget', 'Privacy Budget', 'Compute Budget'],\n",
        "    'Cross Entropy',\n",
        ")\n",
        "bounds = groupby_error_bounds(\n",
        "    results,\n",
        "    ['Data Budget', 'Privacy Budget', 'Compute Budget'],\n",
        "    'Cross Entropy',\n",
        ")\n",
        "# Apply filter when we reach maximum model size we evaluated\n",
        "bounds = bounds[bounds['Model Size']['max'] \u003c 3.316500e08]"
      ]
    },
    {
      "cell_type": "code",
      "execution_count": null,
      "metadata": {
        "id": "otuBWxhpH_7H"
      },
      "outputs": [],
      "source": [
        "std = (\n",
        "    bounds['Token Model Ratio']\n",
        "    .loc[10**7]\n",
        "    .stack()\n",
        "    .unstack('Privacy Budget')\n",
        "    .unstack()\n",
        ")\n",
        "data = std.xs('min', level=1, axis=1).rename(\n",
        "    columns=lambda x: '$10^{%d}$' % np.log10(x).round()\n",
        "    if isinstance(x, int) and x \u003e= 100\n",
        "    else x\n",
        ")\n",
        "data = (\n",
        "    summary[summary['Model Size'] \u003c 3e08]\n",
        "    .set_index(['Privacy Budget', 'Compute Budget'])['Token Model Ratio']\n",
        "    .unstack('Privacy Budget')\n",
        ")"
      ]
    },
    {
      "cell_type": "code",
      "execution_count": null,
      "metadata": {
        "id": "TznDVabZYtFT"
      },
      "outputs": [],
      "source": [
        "data = (\n",
        "    summary[summary['Model Size'] \u003c 3e08]\n",
        "    .set_index(['Privacy Budget', 'Compute Budget'])['Token Model Ratio']\n",
        "    .unstack('Privacy Budget')\n",
        ")"
      ]
    },
    {
      "cell_type": "code",
      "execution_count": null,
      "metadata": {
        "id": "aOTz0q32Zl6I"
      },
      "outputs": [],
      "source": [
        "STD = std.rename(\n",
        "    columns=lambda x: '$10^{%d}$' % np.log10(x).round()\n",
        "    if isinstance(x, int) and x \u003e= 100\n",
        "    else x,\n",
        "    level=0,\n",
        ")\n",
        "STD[('$\\infty$ (Chinchilla)', 'min')] = STD[\n",
        "    ('$\\infty$ (Chinchilla)', 'max')\n",
        "] = 20\n",
        "DATA = STD.xs('min', level=1, axis=1)\n",
        "DATA['$\\infty$ (Chinchilla)'] = 20"
      ]
    },
    {
      "cell_type": "code",
      "execution_count": null,
      "metadata": {
        "id": "jdFZqXxuFdBl"
      },
      "outputs": [],
      "source": [
        "plotting.lineplot(DATA, STD, logx=True, logy=True, ncol=4, fill_between=True)\n",
        "plt.ylabel('Tokens / Model Size')\n",
        "plt.xlabel('Compute Budget')\n",
        "plt.ylim(5, 5e6)\n",
        "\n",
        "handles, labels = plt.gca().get_legend_handles_labels()\n",
        "order = [0, 4, 1, 5, 2, 6, 3, 7]\n",
        "plt.legend(\n",
        "    [handles[idx] for idx in order],\n",
        "    [labels[idx] for idx in order],\n",
        "    title='Privacy Budget',\n",
        "    frameon=True,\n",
        "    handlelength=1,\n",
        "    handletextpad=0.3,\n",
        "    borderpad=0.5,\n",
        "    fontsize='large',\n",
        "    ncol=4,\n",
        ")\n",
        "\n",
        "tmp_filename = 'token_model_ratios_1000000users.pdf'\n",
        "with open(tmp_filename, 'wb') as fh:\n",
        "  plt.savefig(fh, format='pdf', dpi=300, bbox_inches='tight')"
      ]
    },
    {
      "cell_type": "markdown",
      "metadata": {
        "id": "iw_XUxRAL_Of"
      },
      "source": [
        "# Interactive Visualization\n",
        "\n",
        "1. Cross Entropy vs. Iterations (minimizing over Batch Size / Model Size)\n",
        "2. Cross Entropy vs. Batch Size (minimizing over Iterations / Model Size)\n",
        "3. Cross Entropy vs. Model Size (minimizing over Iterations / Batch Size)"
      ]
    },
    {
      "cell_type": "code",
      "execution_count": null,
      "metadata": {
        "id": "pX6kTPUEY9QP"
      },
      "outputs": [],
      "source": [
        "def update_plot(USER_BUDGET, PRIVACY_BUDGET, COMPUTE_BUDGET):\n",
        "  \"\"\"Regenerates the plot with updated budget values.\"\"\"\n",
        "\n",
        "  results = nonparametric.scaling_law_query(\n",
        "      user_budget=USER_BUDGET,\n",
        "      privacy_budget=PRIVACY_BUDGET,\n",
        "      compute_budget=COMPUTE_BUDGET,\n",
        "  )\n",
        "  base = 2**0.25\n",
        "  results['Iterations'] = (\n",
        "      base ** (np.log(results.Iterations) / np.log(base)).round()\n",
        "  )\n",
        "\n",
        "  fig, axes = plt.subplots(nrows=1, ncols=3, figsize=(15, 5))\n",
        "  for xlabel, ax in zip(['Iterations', 'Batch Size', 'Model Size'], axes):\n",
        "    data = results.groupby(xlabel)[['Cross Entropy']].min()\n",
        "    plotting.lineplot(data, ax=ax, symbols=[None], logx=True, legend=False)\n",
        "    if xlabel == 'Iterations':\n",
        "      ax.set_ylabel('Cross Entropy')\n",
        "    ax.set_xlabel(xlabel)\n",
        "\n",
        "  plt.show()\n",
        "\n",
        "\n",
        "# Create sliders\n",
        "user_budget_slider = widgets.FloatLogSlider(\n",
        "    value=2**25, base=2, min=20, max=30, step=1, description='User Budget:'\n",
        ")\n",
        "privacy_budget_slider = widgets.FloatLogSlider(\n",
        "    value=1, base=2, min=-6, max=6, step=0.1, description='Privacy Budget:'\n",
        ")\n",
        "compute_budget_slider = widgets.FloatLogSlider(\n",
        "    value=10**21.1,\n",
        "    base=10,\n",
        "    min=16,\n",
        "    max=23,\n",
        "    step=0.1,\n",
        "    description='Compute Budget:',\n",
        ")\n",
        "\n",
        "# Use interact to link sliders to the update_plot function\n",
        "interact(\n",
        "    update_plot,\n",
        "    USER_BUDGET=user_budget_slider,\n",
        "    PRIVACY_BUDGET=privacy_budget_slider,\n",
        "    COMPUTE_BUDGET=compute_budget_slider,\n",
        ")"
      ]
    },
    {
      "cell_type": "markdown",
      "metadata": {
        "id": "YQtBP1kj1NUD"
      },
      "source": [
        "# Analysis 5 - Full 3x3 Grid"
      ]
    },
    {
      "cell_type": "code",
      "execution_count": null,
      "metadata": {
        "id": "BbqUApe9UiVf"
      },
      "outputs": [],
      "source": [
        "user_budget = 1e7\n",
        "privacy_budget = 4\n",
        "compute_budget = 1e19\n",
        "\n",
        "\n",
        "def format_legend(x):\n",
        "  if x in lines['Privacy Budget']:\n",
        "    text = str(x)\n",
        "    return '$\\mathbf{%s}$' % text if x == privacy_budget else x\n",
        "  elif x in lines['Data Budget']:\n",
        "    text = '$10^{%d}$' % np.log10(x).round()\n",
        "    return '$\\mathbf{%s}$' % text[1:-1] if x == user_budget else text\n",
        "  elif x in lines['Compute Budget']:\n",
        "    text = '$10^{%d}$' % np.log10(float(x)).round()\n",
        "    return '$\\mathbf{%s}$' % text[1:-1] if x == compute_budget else text\n",
        "  else:\n",
        "    raise ValueError(x)\n",
        "\n",
        "\n",
        "inputs = {\n",
        "    'user_budget': user_budget,\n",
        "    'privacy_budget': privacy_budget,\n",
        "    'compute_budget': compute_budget,\n",
        "}\n",
        "\n",
        "xlabels = ['Iterations', 'Model Size', 'Batch Size']\n",
        "lines = {\n",
        "    'Privacy Budget': [1, 4, 16, 64],\n",
        "    'Data Budget': [10**6, 10**7, 10**8, 10**9],\n",
        "    'Compute Budget': [10**17, 10**19, 10**21, 10**23],\n",
        "}\n",
        "\n",
        "names = {\n",
        "    'Privacy Budget': 'privacy_budget',\n",
        "    'Data Budget': 'user_budget',\n",
        "    'Compute Budget': 'compute_budget',\n",
        "}\n",
        "\n",
        "fig, axes = plt.subplots(\n",
        "    3, 3, figsize=(12 * 1.6, 12), sharey=True\n",
        ")  # , sharex=True)\n",
        "\n",
        "for i, xlabel in enumerate(xlabels):\n",
        "  for j, legend in enumerate(lines):\n",
        "\n",
        "    results = pd.concat([\n",
        "        nonparametric.scaling_law_query(**{**inputs, names[legend]: key})\n",
        "        for key in lines[legend]\n",
        "    ])\n",
        "\n",
        "    base = 2**0.25\n",
        "    results['Iterations'] = (\n",
        "        base ** (np.log(results.Iterations) / np.log(base)).round()\n",
        "    )\n",
        "    data = (\n",
        "        results.groupby([xlabel, legend])['Cross Entropy']\n",
        "        .min()\n",
        "        .unstack()\n",
        "        .rename(columns=format_legend)\n",
        "    )\n",
        "\n",
        "    plotting.lineplot(\n",
        "        data,\n",
        "        logx=True,\n",
        "        symbols=[None] * 10,\n",
        "        linestyles=['-', '--', '-.', ':'][::-1],\n",
        "        ax=axes[j][i],\n",
        "        legend=False,\n",
        "    )\n",
        "    if i == 0:\n",
        "      axes[j][i].set(ylabel='Cross Entropy')\n",
        "    if True:\n",
        "      axes[j][i].set(xlabel=xlabel)\n",
        "\n",
        "    if i == 2:\n",
        "      axes[j][i].legend(\n",
        "          title=data.columns.name,\n",
        "          frameon=True,\n",
        "          handlelength=1,\n",
        "          handletextpad=0.5,\n",
        "          borderpad=0.5,\n",
        "          fontsize='large',\n",
        "          loc='upper left',\n",
        "          ncol=1,\n",
        "          bbox_to_anchor=(1, 1),\n",
        "      )\n",
        "\n",
        "plt.tight_layout()\n",
        "plt.ylim(2.5, 6.5)\n",
        "\n",
        "tmp_filename = 'optimal_3x3.pdf'\n",
        "with open(tmp_filename, 'wb') as fh:\n",
        "  plt.savefig(fh, format='pdf', dpi=300, bbox_inches='tight')"
      ]
    },
    {
      "cell_type": "markdown",
      "metadata": {
        "id": "sZGL5youdw6Q"
      },
      "source": [
        "# Comparison to Baseline"
      ]
    },
    {
      "cell_type": "code",
      "execution_count": null,
      "metadata": {
        "id": "JbnxCDnPoIb8"
      },
      "outputs": [],
      "source": [
        "PRIVACY_BUDGETS = [\n",
        "    1,\n",
        "    2,\n",
        "    4,\n",
        "    8,\n",
        "    16,\n",
        "    32,\n",
        "    64,\n",
        "    128,\n",
        "    256,\n",
        "    512,\n",
        "    1024,\n",
        "    2048,\n",
        "    4096,\n",
        "    8192,\n",
        "]\n",
        "\n",
        "\n",
        "baselines = {\n",
        "    'BertLarge': [335e6, 7500],\n",
        "    'BertMedium': [41e6, 5000],\n",
        "    'BertTiny': [4.6e6, 2500],\n",
        "}\n",
        "\n",
        "frames = {}\n",
        "\n",
        "\n",
        "for model_name, (model_size, iterations) in baselines.items():\n",
        "  batch_size = (\n",
        "      1e19 / model_size / iterations / nonparametric._SEQUENCE_LENGTH / 6\n",
        "  )\n",
        "  configs = pd.DataFrame()\n",
        "  configs['Privacy Budget'] = PRIVACY_BUDGETS\n",
        "  configs['Iterations'] = iterations\n",
        "  configs['Model Size'] = model_size\n",
        "  configs['Batch Size'] = batch_size\n",
        "  configs['Data Budget'] = 10**7\n",
        "  configs['Compute Budget'] = (\n",
        "      6 * nonparametric._SEQUENCE_LENGTH * model_size * iterations * batch_size\n",
        "  )\n",
        "\n",
        "  frames[model_name] = nonparametric.batched_scaling_law_query(\n",
        "      compute_configs=configs\n",
        "  )\n",
        "\n",
        "frames['$1 \\cdot 10^{19}$ FLOPs'] = pd.concat([\n",
        "    nonparametric.scaling_law_query(\n",
        "        user_budget=10**7,\n",
        "        privacy_budget=privacy_budget,\n",
        "        compute_budget=1e19,\n",
        "    ).head(n=1)\n",
        "    for privacy_budget in PRIVACY_BUDGETS\n",
        "])\n",
        "\n",
        "frames['$2\\\\cdot 10^{18}$ FLOPs'] = pd.concat([\n",
        "    nonparametric.scaling_law_query(\n",
        "        user_budget=10**7,\n",
        "        privacy_budget=privacy_budget,\n",
        "        compute_budget=2e18,\n",
        "    ).head(n=1)\n",
        "    for privacy_budget in PRIVACY_BUDGETS\n",
        "])"
      ]
    },
    {
      "cell_type": "code",
      "execution_count": null,
      "metadata": {
        "id": "Yrc2Jt-x_teX"
      },
      "outputs": [],
      "source": [
        "from matplotlib.lines import Line2D\n",
        "\n",
        "data = pd.DataFrame()\n",
        "for column in frames:\n",
        "  data['   ' + column] = frames[column].set_index('Privacy Budget')[\n",
        "      'Cross Entropy'\n",
        "  ]\n",
        "\n",
        "plotting.lineplot(\n",
        "    data,\n",
        "    logx=True,\n",
        ")\n",
        "plt.xlabel('Privacy Budget (Epsilon)')\n",
        "plt.ylabel('Cross Entropy')\n",
        "\n",
        "handles, labels = plt.gca().get_legend_handles_labels()\n",
        "dummy = Line2D([0], [0], color='none', linewidth=0, label='Compute Optimal')\n",
        "plt.legend(\n",
        "    handles=handles[:3] + [dummy] + handles[3:],\n",
        "    loc='upper right',\n",
        "    title=data.columns.name,\n",
        "    frameon=True,\n",
        "    handlelength=0.5,\n",
        "    handletextpad=0,\n",
        "    borderpad=0.5,\n",
        "    fontsize='large',\n",
        "    ncol=2,\n",
        ")\n",
        "\n",
        "tmp_filename = 'baseline_compare.pdf'\n",
        "with open(tmp_filename, 'wb') as fh:\n",
        "  plt.savefig(fh, format='pdf', dpi=300, bbox_inches='tight')"
      ]
    },
    {
      "cell_type": "markdown",
      "metadata": {
        "id": "Ot2j1n2TvCuy"
      },
      "source": [
        "## Analysis 6 - Vector Field Visualization\n",
        "\n",
        "Note: For some reason the plots visualized in this notebook have small arrows.  But the downloaded plots look correct.  When commenting out the download_file colab magic, and using plt.show(), the plots render correctly in colab."
      ]
    },
    {
      "cell_type": "code",
      "execution_count": null,
      "metadata": {
        "id": "_OlYVNeg2M-2"
      },
      "outputs": [],
      "source": [
        "dpsgd_sigmas = nonparametric.load_accounting_data()\n",
        "\n",
        "data_batch_sizes = pd.DataFrame(\n",
        "    data=[[2**k, 2**j] for k in range(30) for j in range(k + 1)],\n",
        "    columns=['Records', 'Batch Size'],\n",
        ")\n",
        "data_batch_sizes['Sampling Probability'] = (\n",
        "    data_batch_sizes['Batch Size'] / data_batch_sizes['Records']\n",
        ")\n",
        "\n",
        "accounting = pd.merge(dpsgd_sigmas, data_batch_sizes, on='Sampling Probability')\n",
        "accounting['Noise Batch Ratio'] = (\n",
        "    accounting['Noise Multiplier'] / accounting['Batch Size']\n",
        ")\n",
        "accounting['Epochs'] = (\n",
        "    accounting['Iterations'] * accounting['Batch Size'] / accounting['Records']\n",
        ")"
      ]
    },
    {
      "cell_type": "code",
      "execution_count": null,
      "metadata": {
        "id": "RcVcG0M1vGTM"
      },
      "outputs": [],
      "source": [
        "table = (\n",
        "    accounting[(accounting.Iterations == 16000) \u0026 (accounting.Records == 2**24)]\n",
        "    .set_index(['Batch Size', 'Epsilon'])['Noise Batch Ratio']\n",
        "    .unstack()\n",
        "    .iloc[-15:-2, -13:]\n",
        ")\n",
        "plotting.plot_vector_field(table)\n",
        "plt.xticks([1 / 64, 1 / 8, 1, 8, 64], labels=['1/64', '1/8', '1', '8', '64'])\n",
        "plt.xlabel('Privacy Budget (Epsilon)', fontsize='large')\n",
        "plt.ylabel('Compute Budget (Batch Size)', fontsize='large')\n",
        "\n",
        "tmp_filename = 'accounting_privacy_vs_compute.pdf'\n",
        "with open(tmp_filename, 'wb') as fh:\n",
        "  plt.savefig(fh, format='pdf', dpi=300, bbox_inches='tight')"
      ]
    },
    {
      "cell_type": "code",
      "execution_count": null,
      "metadata": {
        "id": "Q6qCik4YTu1S"
      },
      "outputs": [],
      "source": [
        "table = (\n",
        "    accounting[(accounting.Iterations == 16000) \u0026 (accounting.Epsilon == 4.0)]\n",
        "    .set_index(['Batch Size', 'Records'])['Noise Batch Ratio']\n",
        "    .unstack()\n",
        "    .iloc[9:22, -13:]\n",
        ")\n",
        "\n",
        "plotting.plot_vector_field(table)\n",
        "plt.xticks(\n",
        "    [10**k for k in range(5, 9, 1)],\n",
        "    labels=[f'$10^{k}$' for k in range(5, 9, 1)],\n",
        ")\n",
        "plt.yticks(\n",
        "    [10**k for k in range(3, 7, 1)],\n",
        "    labels=[f'$10^{k}$' for k in range(3, 7, 1)],\n",
        ")\n",
        "plt.xlabel('Data Budget (Users)', fontsize='large')\n",
        "plt.ylabel('Compute Budget (Batch Size)', fontsize='large')\n",
        "\n",
        "tmp_filename = 'accounting_data_vs_compute.pdf'\n",
        "with open(tmp_filename, 'wb') as fh:\n",
        "  plt.savefig(fh, format='pdf', dpi=300, bbox_inches='tight')"
      ]
    },
    {
      "cell_type": "code",
      "execution_count": null,
      "metadata": {
        "id": "bqtBxYpS2k71"
      },
      "outputs": [],
      "source": [
        "table = (\n",
        "    accounting[\n",
        "        (accounting.Iterations == 16000) \u0026 (accounting['Batch Size'] == 65536)\n",
        "    ]\n",
        "    .set_index(['Epsilon', 'Records'])['Noise Batch Ratio']\n",
        "    .unstack()\n",
        "    .iloc[-13:, -13:]\n",
        ")\n",
        "\n",
        "plotting.plot_vector_field(table)\n",
        "grid = [10**k for k in range(0, 9, 2)]\n",
        "labels = [f'$10^{k}$' for k in range(0, 9, 2)]\n",
        "plt.xticks(\n",
        "    [10**k for k in range(5, 9, 1)],\n",
        "    labels=[f'$10^{k}$' for k in range(5, 9, 1)],\n",
        ")\n",
        "plt.yticks([1 / 64, 1 / 8, 1, 8, 64], labels=['1/64', '1/8', '1', '8', '64'])\n",
        "# plt.yticks([1/10, 1, 10, 100], labels=['0.1', '1', '10', '100'])\n",
        "plt.ylabel('Privacy Budget (Epsilon)', fontsize='large')\n",
        "plt.xlabel('Data Budget (Users)', fontsize='large')\n",
        "\n",
        "tmp_filename = 'accounting_data_vs_privacy.pdf'\n",
        "with open(tmp_filename, 'wb') as fh:\n",
        "  plt.savefig(fh, format='pdf', dpi=300, bbox_inches='tight')"
      ]
    },
    {
      "cell_type": "code",
      "execution_count": null,
      "metadata": {
        "id": "b81gF_6fHEmN"
      },
      "outputs": [],
      "source": []
    },
    {
      "cell_type": "markdown",
      "metadata": {
        "id": "vknb3Y5q5OIV"
      },
      "source": [
        "## Analysis 7 - Learning Rate Ablation"
      ]
    },
    {
      "cell_type": "code",
      "execution_count": null,
      "metadata": {
        "id": "IYMuj4So5QNs"
      },
      "outputs": [],
      "source": [
        "df = pd.read_csv(nonparametric._EXPERIMENT_PATH)\n",
        "df['Learning Rate'] = 2 ** np.log2(df['Learning Rate']).round()"
      ]
    },
    {
      "cell_type": "code",
      "execution_count": null,
      "metadata": {
        "id": "ygBJn7iE5diK"
      },
      "outputs": [],
      "source": [
        "def groupby_argmin(df, groupby_cols: list[str], min_col: str):\n",
        "  idx = df.groupby(groupby_cols)[min_col].idxmin()\n",
        "  return df.loc[idx]"
      ]
    },
    {
      "cell_type": "code",
      "execution_count": null,
      "metadata": {
        "id": "EkuZkZXogu3A"
      },
      "outputs": [],
      "source": [
        "iters = [100 * int(2 ** (k / 2)) for k in range(6, 21)]\n",
        "model = 'BertLarge'\n",
        "\n",
        "for nbr in [20, 15, 10]:\n",
        "  results = (\n",
        "      df[\n",
        "          (df.Model == model)\n",
        "          \u0026 (np.log2(df['Noise Batch Ratio']).round() == -nbr)\n",
        "      ]\n",
        "      .set_index(['Iterations', 'Learning Rate'])['Cross Entropy']\n",
        "      .unstack()\n",
        "      .loc[iters]\n",
        "      .rename(lambda x: '$0.5^{%d}$' % round(-np.log2(x)), axis=1)\n",
        "  )\n",
        "\n",
        "  plotting.lineplot(results, logx=True)\n",
        "  if nbr == 20:\n",
        "    plt.ylabel('Cross Entropy')\n",
        "  plt.xlabel('Iterations')\n",
        "\n",
        "  tmp_filename = 'learning_rate_%s_%d.pdf' % (model, nbr)\n",
        "  with open(tmp_filename, 'wb') as fh:\n",
        "    plt.savefig(fh, format='pdf', dpi=300, bbox_inches='tight')"
      ]
    },
    {
      "cell_type": "code",
      "execution_count": null,
      "metadata": {
        "id": "hpAw1wiT4yVF"
      },
      "outputs": [],
      "source": []
    }
  ],
  "metadata": {
    "colab": {
      "last_runtime": {
        "build_target": "//learning/grp/tools/ml_python:ml_notebook",
        "kind": "private"
      },
      "private_outputs": true,
      "provenance": [
        {
          "file_id": "1D0SIKUu4Jn5CrgSiLiWiGjXvBxrzg7VS",
          "timestamp": 1738365286498
        }
      ]
    },
    "kernelspec": {
      "display_name": "Python 3",
      "name": "python3"
    },
    "language_info": {
      "name": "python"
    }
  },
  "nbformat": 4,
  "nbformat_minor": 0
}
