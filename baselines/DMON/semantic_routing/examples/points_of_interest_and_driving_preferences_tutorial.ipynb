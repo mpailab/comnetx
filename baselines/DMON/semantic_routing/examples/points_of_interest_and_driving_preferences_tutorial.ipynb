{
  "cells": [
    {
      "metadata": {
        "id": "LEifDO_tXfX0"
      },
      "cell_type": "markdown",
      "source": [
        "# Licensed under the Apache License, Version 2.0 (the \"License\");\n",
        "# you may not use this file except in compliance with the License.\n",
        "# You may obtain a copy of the License at\n",
        "#\n",
        "# https://www.apache.org/licenses/LICENSE-2.0\n",
        "#\n",
        "# Unless required by applicable law or agreed to in writing, software\n",
        "# distributed under the License is distributed on an \"AS IS\" BASIS,\n",
        "# WITHOUT WARRANTIES OR CONDITIONS OF ANY KIND, either express or implied.\n",
        "# See the License for the specific language governing permissions and\n",
        "# limitations under the License."
      ]
    },
    {
      "cell_type": "code",
      "execution_count": null,
      "metadata": {
        "cellView": "form",
        "collapsed": true,
        "id": "iVBZm36nFzY0",
        "jupyter": {
          "outputs_hidden": true,
          "source_hidden": true
        }
      },
      "outputs": [],
      "source": [
        "# @title Notebook setup.\n",
        "%cd ..\n",
        "import numpy as np\n",
        "import matplotlib.pyplot as plt\n",
        "import networkx as nx\n",
        "import pandas as pd\n",
        "import matplotlib.patches as patches\n",
        "from semantic_routing.benchmark import utils\n",
        "from semantic_routing.benchmark.graphs import grid_graph\n",
        "from semantic_routing.benchmark.graphs import city_graph"
      ]
    },
    {
      "cell_type": "markdown",
      "metadata": {
        "id": "Vh5ndslUAX6x"
      },
      "source": [
        "# Points-of-Interest\n",
        "\n",
        "Our dataset supports over 200 types of points-of-interest (POIs), largely inspired by OpenStreetMap tags."
      ]
    },
    {
      "cell_type": "markdown",
      "metadata": {
        "id": "ScQIKk9wGG1d"
      },
      "source": [
        "## Points-of-interest Specifications\n",
        "\n",
        "Each type of point-of-interest belongs to either a general category such as \"shop\" or \"amenity\", or a specialized category such as \"healthcare\" or \"cuisine\".\n",
        "To get a better understanding of the supported POI types, we can retrieve supported POI specifications by calling `utils.get_poi_specs()`.\n",
        "These specifications indicate the ID number that is assigned to each POI type, how frequently a POI type is expected to be found, and the name and category of the POI type.\n"
      ]
    },
    {
      "cell_type": "code",
      "execution_count": 2,
      "metadata": {
        "cellView": "form",
        "id": "LneDNIX4fda7",
        "jupyter": {
          "source_hidden": true
        }
      },
      "outputs": [],
      "source": [
        "# @title View specifications for POI types belonging to general categories.\n",
        "\n",
        "poi_specs = utils.get_poi_specs()\n",
        "general_poi_specs, specialized_poi_specs = poi_specs\n",
        "\n",
        "poi_type_to_id = {}\n",
        "id_to_poi_type = {}\n",
        "general_pois, specialized_pois = poi_specs\n",
        "for poi_info in general_pois + sum(specialized_pois.values(), []):\n",
        "  id_to_poi_type[poi_info['poi_type_id']] = poi_info['poi_type_name']\n",
        "  poi_type_to_id[poi_info['poi_type_name']] = poi_info['poi_type_id']\n",
        "\n",
        "pd.DataFrame(general_poi_specs)"
      ]
    },
    {
      "cell_type": "markdown",
      "metadata": {
        "id": "9XMZuGd0fko6"
      },
      "source": [
        "We can similarly view the specialized point-of-interest types in aggregate."
      ]
    },
    {
      "cell_type": "code",
      "execution_count": 3,
      "metadata": {
        "cellView": "form",
        "id": "2K-xV4yJfq2v",
        "jupyter": {
          "source_hidden": true
        }
      },
      "outputs": [],
      "source": [
        "# @title View specifications of POI types belonging to specialized categories\n",
        "\n",
        "print(\"List of specialized categories:\", list(specialized_poi_specs.keys()))\n",
        "\n",
        "pd.DataFrame(sum(list(specialized_poi_specs.values()), []))"
      ]
    },
    {
      "cell_type": "markdown",
      "metadata": {
        "id": "l4KKjEn2GiLG"
      },
      "source": [
        "## Points-of-interest On Our Road Graphs\n",
        "\n",
        "We can visualize the points-of-interest on our road graphs. Since even small road graphs are populated with tens of thousands of points-of-interest, in this section we will only visualize a small set of POI types."
      ]
    },
    {
      "cell_type": "code",
      "execution_count": 4,
      "metadata": {
        "cellView": "form",
        "id": "vhHn-3_DHF7-",
        "jupyter": {
          "source_hidden": true
        }
      },
      "outputs": [],
      "source": [
        "chosen_poi_types = (\"fuel\", \"cafe\", \"library\", \"restaurant\", \"convenience\")  # @param\n",
        "chosen_poi_type_ids = [poi_type_to_id[poi_type] for poi_type in chosen_poi_types]"
      ]
    },
    {
      "cell_type": "code",
      "execution_count": 5,
      "metadata": {
        "cellView": "form",
        "id": "XSaj1m2lIXfW",
        "jupyter": {
          "source_hidden": true
        }
      },
      "outputs": [],
      "source": [
        "def draw_poi_graph(graph, pos, nx_graph, title):\n",
        "  plt.figure(figsize=(6, 6))\n",
        "  nx.draw(\n",
        "      nx_graph,\n",
        "      pos,\n",
        "      edge_color=\"#dedede\",\n",
        "      node_color=\"none\",\n",
        "      node_size=10,\n",
        "      arrows=False,\n",
        "  )\n",
        "  colors = ['orange', 'red', 'blue', 'yellow', 'green', 'purple']\n",
        "  plotted = []\n",
        "  for u, v in graph.nx_graph.edges():\n",
        "    for poi_name, poi_types in graph.get_edge_pois(graph.edge_from_internal[(u, v)]):\n",
        "      if poi_name in plotted:\n",
        "        continue\n",
        "      plotted.append(poi_name)\n",
        "      if not set(poi_types).intersection(set(chosen_poi_type_ids)):\n",
        "        continue\n",
        "      poi_coords = (pos[u] + pos[v]) / 2 + (pos[u] - pos[v]) * 0.25 * np.random.uniform(-1, 1)\n",
        "      for poi_type_id in poi_types:\n",
        "        if poi_type_id not in chosen_poi_type_ids:\n",
        "          continue\n",
        "        circle = patches.Circle(\n",
        "            poi_coords,\n",
        "            radius=0.2,\n",
        "            fc=colors[chosen_poi_type_ids.index(poi_type_id)],\n",
        "            edgecolor=colors[chosen_poi_type_ids.index(poi_type_id)],\n",
        "            linewidth=0.2,\n",
        "        )\n",
        "        plt.gca().add_patch(circle)\n",
        "\n",
        "  legend_labels = []\n",
        "  for i, poi_type in enumerate(chosen_poi_types):\n",
        "    legend_labels.append(\n",
        "        patches.Patch(color=colors[i], label=poi_type.capitalize().replace(\"_\", \" \"))\n",
        "    )\n",
        "  plt.legend(\n",
        "      handles=legend_labels,\n",
        "      loc=\"lower center\",\n",
        "      fontsize=10,\n",
        "      ncol=len(legend_labels),\n",
        "  )\n",
        "  plt.axis(\"off\")\n",
        "  plt.title(title)\n",
        "  plt.show()"
      ]
    },
    {
      "cell_type": "markdown",
      "metadata": {
        "id": "yG1HFW-pHG15"
      },
      "source": [
        "In our dataset's grid graph simulations, points-of-interest are added to the graph randomly. For each POI type, we target a density that is proportional to how frequently that POI type can be found in the real-world (as indicated by the `freq` column of `utils.get_poi_specs()`)."
      ]
    },
    {
      "cell_type": "code",
      "execution_count": 6,
      "metadata": {
        "cellView": "form",
        "id": "8IyZlya_ops8",
        "jupyter": {
          "source_hidden": true
        }
      },
      "outputs": [],
      "source": [
        "#@title Visualizing the POIs on a simulated grid graph.\n",
        "\n",
        "num_nodes = 900 # @param\n",
        "graph = grid_graph.GridGraph(poi_specs, num_nodes, splits=[0.95, 0, 0.05])\n",
        "pos = {(x, y): np.array([x, y]) for x, y in graph.nx_graph.nodes()}\n",
        "nx_graph = graph.nx_graph\n",
        "title = \"Example grid road graph simulation with a subset of POIs highlighted.\"\n",
        "draw_poi_graph(graph, pos, nx_graph, title)"
      ]
    },
    {
      "cell_type": "markdown",
      "metadata": {
        "id": "uM6-QiQlI55Y"
      },
      "source": [
        "In our road graphs of major US cities, we obtain points-of-interest data from the OpenStreetMap project. That is, the depicted points-of-interest correspond to real-world businesses, landmarks, and etc."
      ]
    },
    {
      "cell_type": "code",
      "execution_count": 7,
      "metadata": {
        "cellView": "form",
        "id": "q6f_HW4AIkbR",
        "jupyter": {
          "source_hidden": true
        }
      },
      "outputs": [],
      "source": [
        "#@title Visualizing the POIs of a subgraph of Berkeley.\n",
        "\n",
        "num_nodes = 20000 # @param\n",
        "graph = city_graph.CityGraph(poi_specs, num_nodes, seed=0, splits=[0.95, 0, 0.05], use_test_city=True)\n",
        "nx_graph = graph.nx_graph\n",
        "\n",
        "pos = {}\n",
        "ego = None\n",
        "for u, v, data in nx_graph.edges(data=True):\n",
        "  if ego is None:\n",
        "    ego = data[\"u_lat\"], data[\"u_lon\"]\n",
        "  if u not in pos:\n",
        "    pos[u] = np.array([1000 * (data[\"u_lat\"] - ego[0]), 1000 * (data[\"u_lon\"] - ego[1])])\n",
        "  if v not in pos:\n",
        "    pos[v] = np.array([1000 * (data[\"v_lat\"] - ego[0]), 1000 * (data[\"v_lon\"] - ego[1])])\n",
        "\n",
        "title = \"Example road graph from Berkeley with a subset of POIs highlighted.\"\n",
        "draw_poi_graph(graph, pos, nx_graph, title)"
      ]
    },
    {
      "cell_type": "markdown",
      "metadata": {
        "id": "MlfyAQUDhkmB"
      },
      "source": [
        "We can map these points-of-interest to their real-world counterparts by looking at the POI names."
      ]
    },
    {
      "cell_type": "code",
      "execution_count": 8,
      "metadata": {
        "cellView": "form",
        "id": "o-nuONZZhjx2",
        "jupyter": {
          "source_hidden": true
        }
      },
      "outputs": [],
      "source": [
        "# @title Example of a road segment's annotated POIs.\n",
        "graph = city_graph.CityGraph(poi_specs, 20000, seed=0, splits=[0.95, 0, 0.05], use_test_city=True)\n",
        "data = None\n",
        "for u, v, data in graph.nx_graph.edges(data=True):\n",
        "  if len([p for p in data[\"poi_node_names\"] if p is not None]) \u003e 2:\n",
        "    break\n",
        "assert data is not None\n",
        "print(\"Example of a road segment's POIs:\", [p for p in data[\"poi_node_names\"] if p is not None])"
      ]
    },
    {
      "cell_type": "markdown",
      "metadata": {
        "id": "ycj_EF5eKEOj"
      },
      "source": [
        "## Additional Notes on POIs"
      ]
    },
    {
      "cell_type": "markdown",
      "metadata": {
        "id": "Nx-XNgaoKzyU"
      },
      "source": [
        "As we saw previously, a single road segment might have multiple points-of-interest located on it. We also note that a single point-of-interest might be labeled with multiple POI types. Here are some examples."
      ]
    },
    {
      "cell_type": "code",
      "execution_count": 9,
      "metadata": {
        "cellView": "form",
        "id": "M0IJrIthR059",
        "jupyter": {
          "source_hidden": true
        }
      },
      "outputs": [],
      "source": [
        "# @title Examples of POIs belonging to multiple types.\n",
        "i = 0\n",
        "for u, v, data in graph.nx_graph.edges(data=True):\n",
        "  if data[\"level\"] \u003e 1:\n",
        "    continue\n",
        "  for name, poi_types in zip(data[\"poi_node_names\"], data['poi_type_ids']):\n",
        "    if len(poi_types) \u003e 1:\n",
        "      print(\"\\\"{}\\\" is labeled with the POI types:\".format(name), [id_to_poi_type[poi_type] for poi_type in poi_types])\n",
        "      i += 1\n",
        "  if i \u003e 10:\n",
        "    break"
      ]
    },
    {
      "cell_type": "markdown",
      "metadata": {
        "id": "oqoaVlOXUVjx"
      },
      "source": [
        "In addition, a single point-of-interest might be associated with up to two edges. Note that a POI will only be associated with more than one edge if it is found next to a bidirectional road; in such a case, the POI will be associated with both directions of the road, which are represented in our bidirectional graph as distinct edges."
      ]
    },
    {
      "cell_type": "code",
      "execution_count": 10,
      "metadata": {
        "cellView": "form",
        "id": "6KCNAKeaSG6I",
        "jupyter": {
          "source_hidden": true
        }
      },
      "outputs": [],
      "source": [
        "# @title Example of POI found on two edges.\n",
        "seen = {}\n",
        "overlap_found = False\n",
        "for u, v, data in graph.nx_graph.edges(data=True):\n",
        "  if data[\"level\"] \u003e 1:\n",
        "    continue\n",
        "  for name, poi_types, node_id in zip(data[\"poi_node_names\"], data['poi_type_ids'], data[\"poi_node_ids\"]):\n",
        "    if node_id not in seen:\n",
        "      seen[node_id] = (u, v)\n",
        "    else:\n",
        "      assert (v, u) == seen[node_id]\n",
        "      if not overlap_found and name is not None:\n",
        "        print(\"The point of interest \\\"{}\\\" was found on both edges {} and {}.\".format(name, (u[0], v[0]), (seen[node_id][0][0], seen[node_id][1][0])))\n",
        "        overlap_found = True"
      ]
    },
    {
      "cell_type": "markdown",
      "metadata": {
        "id": "pzIctPRqMvkJ"
      },
      "source": [
        "# Driving Preferences"
      ]
    },
    {
      "cell_type": "markdown",
      "metadata": {
        "id": "9jbzSQpcg596"
      },
      "source": [
        "It is possible to augment our dataset to specify different driving preferences. As an example, our dataset comes preloaded with support for a preference/aversion towards driving on highways.\n",
        "To incorporate these preferences when computing ground-truth optimal routes, we assign a penalty/reward for every unit of time spent on a highway."
      ]
    },
    {
      "cell_type": "code",
      "execution_count": 11,
      "metadata": {
        "cellView": "form",
        "id": "vLG32S2SgeQe",
        "jupyter": {
          "source_hidden": true
        }
      },
      "outputs": [],
      "source": [
        "# @title Realized costs of driving on a highway or residential street under different driving preferences.\n",
        "\n",
        "print(\"Driving on a highway for 1 unit of time incurs a realized cost of...\")\n",
        "cost_fn_input = None, None, {\"highway\": \"motorway\", \"current_travel_time\": 10, \"highways\": [\"motorway\"], \"current_travel_times\": [10]}\n",
        "print(\"(Neutral)\", utils.get_modified_cost_fn(\"\")(*cost_fn_input))\n",
        "print(\"(Likes highways)\", utils.get_modified_cost_fn(\"like highways\")(*cost_fn_input))\n",
        "print(\"(Dislikes highways)\", utils.get_modified_cost_fn(\"dislike highways\")(*cost_fn_input))\n",
        "print()\n",
        "print(\"Driving on a residential street for 1 unit of time incurs a realized cost of...\")\n",
        "cost_fn_input = None, None, {\"highway\": \"residential\", \"current_travel_time\": 10, \"highways\": [\"residential\"], \"current_travel_times\": [10]}\n",
        "print(\"(Neutral)\", utils.get_modified_cost_fn(\"\")(*cost_fn_input))\n",
        "print(\"(Likes highways)\", utils.get_modified_cost_fn(\"like highways\")(*cost_fn_input))\n",
        "print(\"(Dislikes highways)\", utils.get_modified_cost_fn(\"dislike highways\")(*cost_fn_input))"
      ]
    }
  ],
  "metadata": {
    "kernelspec": {
      "display_name": "Python 3 (ipykernel)",
      "language": "python",
      "name": "python3"
    },
    "language_info": {
      "codemirror_mode": {
        "name": "ipython",
        "version": 3
      },
      "file_extension": ".py",
      "mimetype": "text/x-python",
      "name": "python",
      "nbconvert_exporter": "python",
      "pygments_lexer": "ipython3",
      "version": "3.11.9"
    }
  },
  "nbformat": 4,
  "nbformat_minor": 4
}
