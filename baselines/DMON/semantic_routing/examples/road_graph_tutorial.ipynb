{
  "cells": [
    {
      "metadata": {
        "id": "LEifDO_tXfX0"
      },
      "cell_type": "markdown",
      "source": [
        "# Licensed under the Apache License, Version 2.0 (the \"License\");\n",
        "# you may not use this file except in compliance with the License.\n",
        "# You may obtain a copy of the License at\n",
        "#\n",
        "# https://www.apache.org/licenses/LICENSE-2.0\n",
        "#\n",
        "# Unless required by applicable law or agreed to in writing, software\n",
        "# distributed under the License is distributed on an \"AS IS\" BASIS,\n",
        "# WITHOUT WARRANTIES OR CONDITIONS OF ANY KIND, either express or implied.\n",
        "# See the License for the specific language governing permissions and\n",
        "# limitations under the License."
      ]
    },
    {
      "cell_type": "code",
      "execution_count": null,
      "metadata": {
        "cellView": "form",
        "collapsed": true,
        "id": "GBZjA3F5pH4n",
        "jupyter": {
          "outputs_hidden": true,
          "source_hidden": true
        }
      },
      "outputs": [],
      "source": [
        "# @title Notebook setup.\n",
        "\n",
        "%cd ..\n",
        "import numpy as np\n",
        "import random\n",
        "import pandas as pd\n",
        "import matplotlib.pyplot as plt\n",
        "import networkx as nx\n",
        "import matplotlib.patches as patches\n",
        "from semantic_routing.benchmark import utils\n",
        "from semantic_routing.benchmark.graphs import grid_graph\n",
        "from semantic_routing.benchmark.graphs import city_graph"
      ]
    },
    {
      "cell_type": "markdown",
      "metadata": {
        "id": "Pn7yca3Oq9nF"
      },
      "source": [
        "# Road Graphs"
      ]
    },
    {
      "cell_type": "markdown",
      "metadata": {
        "id": "-Ce4nieeUoLX"
      },
      "source": [
        "We provide two sources of road graphs: a rich simulation of a grid-based road network and real-world road graphs sampled from major US cities. We sample metadata such as points-of-interest and travel times according to either simulation (for grid graphs) or OpenStreetMap data (for US cities)."
      ]
    },
    {
      "cell_type": "markdown",
      "metadata": {
        "id": "CS3fUB8RVAiH"
      },
      "source": [
        "## Travel Times"
      ]
    },
    {
      "cell_type": "markdown",
      "metadata": {
        "id": "mgNB9lyPoXJS"
      },
      "source": [
        "On grid graphs, the estimated travel times are sampled from a Poisson distribution for residential roads or set to 1 for highway roads. Estimated travel time may differ for the same road depending on which direction one is driving."
      ]
    },
    {
      "cell_type": "code",
      "execution_count": 2,
      "metadata": {
        "cellView": "form",
        "id": "pQVkUgxDoV-i",
        "jupyter": {
          "source_hidden": true
        }
      },
      "outputs": [],
      "source": [
        "# @title Estimated travel times of an example grid road graph.\n",
        "\n",
        "poi_specs = utils.get_poi_specs()\n",
        "graph = grid_graph.GridGraph(poi_specs, 64, splits=[0.95, 0, 0.05], highway_density_node=50, min_node_gap=10)\n",
        "\n",
        "offset = 0.1\n",
        "c = 1\n",
        "new_graph = nx.DiGraph()\n",
        "for (u, v, data) in list(graph.nx_graph.edges(data=True)):\n",
        "  if u[0] == v[0] and u[1] \u003e v[1]:\n",
        "    data[\"dir\"] = \"Down Road\"\n",
        "    new_graph.add_edge((u[0] + offset, u[1] - offset / c), (v[0]  + offset, v[1] + offset / c), **data)\n",
        "  elif u[1] == v[1] and u[0] \u003e v[0]:\n",
        "    data[\"dir\"] = \"Left Road\"\n",
        "    new_graph.add_edge((u[0] - offset / c, u[1]  + offset), (v[0] + offset / c, v[1] + offset), **data)\n",
        "  elif u[0] == v[0] and u[1] \u003c v[1]:\n",
        "    data[\"dir\"] = \"Up Road\"\n",
        "    new_graph.add_edge((u[0] - offset, u[1] + offset / c), (v[0] - offset, v[1] - offset / c), **data)\n",
        "  elif u[1] == v[1] and u[0] \u003c v[0]:\n",
        "    data[\"dir\"] = \"Right Road\"\n",
        "    new_graph.add_edge((u[0] + offset / c, u[1] - offset), (v[0] - offset / c, v[1] - offset), **data)\n",
        "  else:\n",
        "    data[\"dir\"] = \"Highway\"\n",
        "    new_graph.add_edge(u, v, **data)\n",
        "\n",
        "\n",
        "plt.figure(figsize=(8, 8))\n",
        "nx.draw(\n",
        "    new_graph,\n",
        "    {(x, y): (x, y) for x, y in new_graph.nodes()},\n",
        "    edge_color=\"#dedede\",\n",
        "    node_color=\"none\",\n",
        ")\n",
        "\n",
        "colors = {\"Up Road\": \"blue\", \"Down Road\": \"orange\", \"Left Road\": \"green\", \"Right Road\": \"red\", \"Highway\": \"black\"}\n",
        "for (u, v, d) in new_graph.edges(data=True):\n",
        "  color = colors[d[\"dir\"]]\n",
        "  travel_time = int(d['travel_time'])\n",
        "  mid_point = [(u[0] + v[0]) / 2, (u[1] + v[1]) / 2]\n",
        "  plt.text(mid_point[0], mid_point[1], s=travel_time, ha='center', va='center', color=color)\n",
        "\n",
        "legend_labels = []\n",
        "for k, v in colors.items():\n",
        "  legend_labels.append(\n",
        "      patches.Patch(color=v, label=k)\n",
        "  )\n",
        "plt.title(\"Example grid road graph with expected travel times.\")\n",
        "plt.legend(\n",
        "    handles=legend_labels,\n",
        "    loc=\"lower center\",\n",
        "    fontsize=10,\n",
        "    ncol=len(legend_labels),\n",
        ")\n",
        "plt.show()"
      ]
    },
    {
      "cell_type": "markdown",
      "metadata": {
        "id": "VOOlxoqhpaGF"
      },
      "source": [
        "To compute live travel times, we sample a binomial random variable and scale expected travel time upwards accordingly."
      ]
    },
    {
      "cell_type": "code",
      "execution_count": 3,
      "metadata": {
        "cellView": "form",
        "id": "QQMbIPPRpjAb",
        "jupyter": {
          "source_hidden": true
        }
      },
      "outputs": [],
      "source": [
        "# @title Current travel times of an example grid road graph.\n",
        "\n",
        "offset = 0\n",
        "new_graph = nx.DiGraph()\n",
        "for (u, v, data) in list(graph.nx_graph.edges(data=True)):\n",
        "  if u[0] == v[0] and u[1] \u003e v[1]:\n",
        "    data[\"dir\"] = \"down\"\n",
        "    new_graph.add_edge((u[0] + offset, u[1] - offset / c), (v[0]  + offset, v[1] + offset / c), **data)\n",
        "  elif u[1] == v[1] and u[0] \u003c v[0]:\n",
        "    data[\"dir\"] = \"right\"\n",
        "    new_graph.add_edge((u[0] + offset / c, u[1] - offset), (v[0] - offset / c, v[1] - offset), **data)\n",
        "  elif u[1] == v[1] and u[0] \u003e v[0]:\n",
        "    continue\n",
        "  elif u[0] == v[0] and u[1] \u003c v[1]:\n",
        "    continue\n",
        "  else:\n",
        "    data[\"dir\"] = \"highway\"\n",
        "    new_graph.add_edge(u, v, **data)\n",
        "\n",
        "\n",
        "plt.figure(figsize=(8, 8))\n",
        "nx.draw(\n",
        "    new_graph,\n",
        "    {(x, y): (x, y) for x, y in new_graph.nodes()},\n",
        "    edge_color=\"#dedede\",\n",
        "    node_color=\"none\",\n",
        ")\n",
        "for (u, v, d) in new_graph.edges(data=True):\n",
        "  travel_time = int(d['travel_time'])\n",
        "  current_travel_time = int(d['current_travel_time'])\n",
        "  mid_point = [(u[0] + v[0]) / 2, (u[1] + v[1]) / 2]\n",
        "  if d[\"dir\"] == \"highway\":\n",
        "    mid_point[1] += 0.1\n",
        "    plt.text(mid_point[0]-0.1, mid_point[1]-0.1, s=travel_time, ha='center', va='center', color=\"green\")\n",
        "    plt.text(mid_point[0]+0.1, mid_point[1]+0.1, s=current_travel_time, ha='center', va='center', color=\"orange\")\n",
        "  else:\n",
        "    plt.text(mid_point[0]-0.1, mid_point[1]-0.1, s=travel_time, ha='center', va='center', color=\"blue\")\n",
        "    plt.text(mid_point[0]+0.1, mid_point[1]+0.1, s=current_travel_time, ha='center', va='center', color=\"red\")\n",
        "\n",
        "\n",
        "legend_labels = [patches.Patch(color=\"blue\", label=\"Estimated Time\"), patches.Patch(color=\"red\", label=\"Current Time\"),\n",
        "                 patches.Patch(color=\"green\", label=\"Estimated Time (Highway)\"), patches.Patch(color=\"orange\", label=\"Current Time (Highway)\")]\n",
        "\n",
        "plt.legend(\n",
        "    handles=legend_labels,\n",
        "    loc=\"lower center\",\n",
        "    fontsize=10,\n",
        "    ncol=len(legend_labels),\n",
        ")\n",
        "plt.title(\"Example grid road graph with expected and current travel times.\")\n",
        "plt.show()"
      ]
    },
    {
      "cell_type": "markdown",
      "metadata": {
        "id": "FZ6nRynb_nBW"
      },
      "source": [
        "On US city road graphs, the estimated travel times are obtained from the publicly sourced estimates of the OpenStreetMap project, which are computed based on published speed limits, road conditions, and road lengths."
      ]
    },
    {
      "cell_type": "code",
      "execution_count": 4,
      "metadata": {
        "cellView": "form",
        "id": "3IE-1ur4Agii",
        "jupyter": {
          "source_hidden": true
        }
      },
      "outputs": [],
      "source": [
        "# @title Current travel times of a subgraph of Berkeley's road graph.\n",
        "\n",
        "graph = city_graph.CityGraph(poi_specs, 100, seed=1, splits=[0.95, 0, 0.05], use_test_city=True)\n",
        "\n",
        "pos = {}\n",
        "ego = None\n",
        "plotted = []\n",
        "for u, v, data in graph.nx_graph.edges(data=True):\n",
        "  if (v, u) in plotted:\n",
        "    continue\n",
        "  plotted.append((u, v))\n",
        "  if ego is None:\n",
        "    ego = data[\"u_lat\"], data[\"u_lon\"]\n",
        "  if u not in pos:\n",
        "    pos[u] = np.array([2000 * (data[\"u_lat\"] - ego[0]), 2000 * (data[\"u_lon\"] - ego[1])])\n",
        "  if v not in pos:\n",
        "    pos[v] = np.array([2000 * (data[\"v_lat\"] - ego[0]), 2000 * (data[\"v_lon\"] - ego[1])])\n",
        "\n",
        "fig, axes = plt.subplots(1, 3, figsize=(18, 6))\n",
        "plt.axis(\"off\")\n",
        "for ax in axes:\n",
        "  nx.draw(graph.nx_graph, pos, ax=ax, node_size=0, arrows=False,\n",
        "    edge_color=\"#dedede\",\n",
        "    node_color=\"none\",)\n",
        "\n",
        "rng = random.Random(0)\n",
        "for (u, v, d) in graph.nx_graph.edges(data=True):\n",
        "  if rng.random() \u003c 0.9:\n",
        "    continue\n",
        "  travel_time = int(10 * d['travel_time']) / 10\n",
        "  current_travel_time = int(10 * d['current_travel_time']) / 10\n",
        "  highway = d['highway']\n",
        "  u = pos[u]\n",
        "  v = pos[v]\n",
        "  mid_point = [(u[0] + v[0]) / 2, (u[1] + v[1]) / 2]\n",
        "  axes[0].text(mid_point[0], mid_point[1], s=current_travel_time, ha='center', va='center', color=\"green\")\n",
        "  axes[1].text(mid_point[0], mid_point[1], s=travel_time, ha='center', va='center', color=\"blue\")\n",
        "  axes[2].text(mid_point[0], mid_point[1], s=highway, ha='center', va='center', color=\"red\")\n",
        "\n",
        "legend_labels = [patches.Patch(color=\"blue\", label=\"Estimated Time\"), patches.Patch(color=\"green\", label=\"Current Time\"), patches.Patch(color=\"red\", label=\"Highway\")]\n",
        "plt.legend(\n",
        "    handles=legend_labels,\n",
        "    loc=\"lower center\",\n",
        "    fontsize=10,\n",
        "    ncol=len(legend_labels),\n",
        ")\n",
        "\n",
        "plt.title(\"Example road graph from Berkeley with expected and current travel times.\")\n",
        "plt.show()"
      ]
    },
    {
      "cell_type": "markdown",
      "metadata": {
        "id": "DGo7twln-bLq"
      },
      "source": [
        "## Working with road graphs"
      ]
    },
    {
      "cell_type": "markdown",
      "metadata": {
        "id": "7zKpz3--VXFD"
      },
      "source": [
        "Each road graph can be perceived as a subgraph of a giant graph, that is taken around some \"central node\". We form these subgraphs, for example, from US city road networks by picking a random central node and taking a k-hop neighborhood around it.\n",
        "The edges around the central node can be accessed through the property `graph.central_edges`.\n",
        "\n",
        "To sample non-central edges, we can call `graph.sample_noncentral_edge(split, rng)`.\n",
        "The set of non-central edges is divided into different data splits, which you choose when calling `sample_noncentral_edge` (0 is training, 1 is validation, 2 is testing)."
      ]
    },
    {
      "cell_type": "code",
      "execution_count": 5,
      "metadata": {
        "cellView": "form",
        "id": "1hsjd132tiu4",
        "jupyter": {
          "source_hidden": true
        }
      },
      "outputs": [],
      "source": [
        "# @title Example of a road graph's central and noncentral edges.\n",
        "num_nodes = 20000 # @param\n",
        "graph = city_graph.CityGraph(poi_specs, num_nodes, seed=0, splits=[0.95, 0, 0.05], use_test_city=True)\n",
        "rng = random.Random(0)\n",
        "\n",
        "pos = {}\n",
        "ego = None\n",
        "for u, v, data in graph.nx_graph.edges(data=True):\n",
        "  if ego is None:\n",
        "    ego = data[\"u_lat\"], data[\"u_lon\"]\n",
        "  if u not in pos:\n",
        "    pos[u] = np.array([1000 * (data[\"u_lat\"] - ego[0]), 1000 * (data[\"u_lon\"] - ego[1])])\n",
        "  if v not in pos:\n",
        "    pos[v] = np.array([1000 * (data[\"v_lat\"] - ego[0]), 1000 * (data[\"v_lon\"] - ego[1])])\n",
        "\n",
        "plt.figure(figsize=(12, 12))\n",
        "plt.axis(\"off\")\n",
        "\n",
        "random_edges = []\n",
        "for _ in range(100):\n",
        "  random_edges.append(graph.sample_noncentral_edge(split=2, rng=rng))\n",
        "colors = []\n",
        "widths = []\n",
        "for u, v in graph.nx_graph.edges():\n",
        "  if graph.edge_from_internal[(u, v)] in random_edges:\n",
        "    colors.append('red')\n",
        "    widths.append(10)\n",
        "  elif graph.edge_from_internal[(u, v)] in graph.central_edges:\n",
        "    colors.append('green')\n",
        "    widths.append(5)\n",
        "  else:\n",
        "    colors.append(\"#dedede\")\n",
        "    widths.append(1)\n",
        "\n",
        "nx.draw(graph.nx_graph, pos, node_size=0, arrows=False,\n",
        "    edge_color=colors,\n",
        "    node_color=\"none\",\n",
        "        width=widths\n",
        "        )\n",
        "\n",
        "legend_labels = [patches.Patch(color=\"green\", label=\"Central Edge\"),\n",
        "                 patches.Patch(color=\"#dedede\", label=\"Noncentral Edge\"),\n",
        "                 patches.Patch(color=\"red\", label=\"Randomly Sampled Noncentral Edges\")]\n",
        "plt.legend(\n",
        "    handles=legend_labels,\n",
        "    loc=\"lower center\",\n",
        "    fontsize=10,\n",
        "    ncol=len(legend_labels),\n",
        ")\n",
        "plt.axis(\"off\")\n",
        "plt.title(\"Example road graph from Berkeley with central edges highlighted.\")\n",
        "plt.show()"
      ]
    },
    {
      "cell_type": "markdown",
      "metadata": {
        "id": "k8jSnTxZ-2UO"
      },
      "source": [
        "We can use `get_edge_pois` to iterate through the POIs located on an edge and use `get_road_type` to get the road type of the edge."
      ]
    },
    {
      "cell_type": "code",
      "execution_count": 6,
      "metadata": {
        "cellView": "form",
        "id": "WZoGmTtkrTbS",
        "jupyter": {
          "source_hidden": true
        }
      },
      "outputs": [],
      "source": [
        "# @title Examples of get_edge_pois and get_road_type.\n",
        "\n",
        "poi_specs = utils.get_poi_specs()\n",
        "general_poi_specs, specialized_poi_specs = poi_specs\n",
        "\n",
        "poi_type_to_id = {}\n",
        "id_to_poi_type = {}\n",
        "general_pois, specialized_pois = poi_specs\n",
        "for poi_info in general_pois + sum(specialized_pois.values(), []):\n",
        "  id_to_poi_type[poi_info['poi_type_id']] = poi_info['poi_type_name']\n",
        "  poi_type_to_id[poi_info['poi_type_name']] = poi_info['poi_type_id']\n",
        "\n",
        "rng = random.Random(0)\n",
        "for _ in range(100):\n",
        "  edge = graph.sample_noncentral_edge(split=2, rng=rng)\n",
        "  if len(graph.get_edge_pois(edge)) \u003e 0:\n",
        "    break\n",
        "print(\"Calling `get_edge_pois` on edge {}:\".format(edge))\n",
        "for i, (node_id, poi_type) in enumerate(graph.get_edge_pois(edge)):\n",
        "  print(\"POI {}: {} (ID #{})\".format(i, \" and \".join([id_to_poi_type[p] for p in poi_type]), node_id))\n",
        "print()\n",
        "print(\"Calling `get_road_type` on edge {}: {}\".format(edge, graph.get_road_type(edge)))"
      ]
    },
    {
      "cell_type": "markdown",
      "metadata": {
        "id": "QhJzTrlN-6dn"
      },
      "source": [
        "Road graphs provide two ways of retrieving the neighborhood around an edge. The first way is calling `get_reachable(edge)`, which returns edges that are outgoing from the end of `edge`."
      ]
    },
    {
      "cell_type": "code",
      "execution_count": 13,
      "metadata": {
        "cellView": "form",
        "id": "hkmeZzMcreq5",
        "jupyter": {
          "source_hidden": true
        }
      },
      "outputs": [],
      "source": [
        "# @title Visualization of reachable edges.\n",
        "\n",
        "graph = city_graph.CityGraph(poi_specs, 8, seed=0, splits=[0.95, 0, 0.05], use_test_city=True)\n",
        "\n",
        "edge = graph.central_edges[-1]\n",
        "reachable = graph.get_reachable(edge)\n",
        "print(\"Edges reachable from {}: {}\".format(edge, reachable))\n",
        "\n",
        "pos = {}\n",
        "ego = None\n",
        "c = 10000\n",
        "for i, (u, v, data) in enumerate(graph.nx_graph.edges(data=True)):\n",
        "  if ego is None:\n",
        "    ego = c * data[\"u_lat\"], c * data[\"u_lon\"]\n",
        "  if u not in pos:\n",
        "    pos[u] = np.array([c * data[\"u_lat\"] - ego[0], c * data[\"u_lon\"] - ego[1]], dtype=np.float64)\n",
        "  if v not in pos:\n",
        "    pos[v] = np.array([c * data[\"v_lat\"] - ego[0], c* data[\"v_lon\"] - ego[1]], dtype=np.float64)\n",
        "\n",
        "plt.figure(figsize=(7, 7))\n",
        "plt.axis(\"off\")\n",
        "rng = random.Random(0)\n",
        "\n",
        "edge_colors = []\n",
        "width = []\n",
        "for (u, v, d) in graph.nx_graph.edges(data=True):\n",
        "  new_edge = graph.edge_from_internal[(u, v)]\n",
        "  u = pos[u]\n",
        "  v = pos[v]\n",
        "  mid_point = [(u[0] + v[0]) / 2, (u[1] + v[1]) / 2]\n",
        "  offset = 0.3 * (rng.random() - 0.5)\n",
        "  if new_edge in reachable:\n",
        "    edge_colors.append(\"green\")\n",
        "    plt.text(mid_point[0], mid_point[1] + offset, s=new_edge, ha='center', va='center', color=\"green\")\n",
        "    width.append(3)\n",
        "  elif new_edge == edge:\n",
        "    edge_colors.append(\"red\")\n",
        "    plt.text(mid_point[0], mid_point[1] + offset, s=\"Edge {}\".format(edge), ha='center', va='center', color=\"red\")\n",
        "    width.append(3)\n",
        "  else:\n",
        "    edge_colors.append(\"none\")\n",
        "    width.append(1)\n",
        "\n",
        "nx.draw(graph.nx_graph, pos, arrows=False,\n",
        "    edge_color=edge_colors,\n",
        "        alpha=0.3,\n",
        "    width=width,\n",
        "    node_color=\"black\", node_size=2)\n",
        "\n",
        "legend_labels = [patches.Patch(color=\"green\", label=\"Reachable Edge\"),\n",
        "                 patches.Patch(color=\"red\", label=\"Central Edge\")]\n",
        "plt.legend(\n",
        "    handles=legend_labels,\n",
        "    loc=\"lower center\",\n",
        "    fontsize=10,\n",
        "    ncol=len(legend_labels),\n",
        ")\n",
        "plt.axis(\"off\")\n",
        "plt.title(\"Edges reachable from edge {}\".format(edge))\n",
        "plt.show()"
      ]
    },
    {
      "cell_type": "markdown",
      "metadata": {
        "id": "wfqcj7XUB1yn"
      },
      "source": [
        "Another way is to use `get_receptive_field` to get a wider neighborhood around a node."
      ]
    },
    {
      "cell_type": "code",
      "execution_count": 8,
      "metadata": {
        "cellView": "form",
        "id": "zBhTfCXpraZx",
        "jupyter": {
          "source_hidden": true
        }
      },
      "outputs": [],
      "source": [
        "# @title Receptive field visualization.\n",
        "\n",
        "receptive_field_size = 256 # @param\n",
        "num_nodes = 20000 # @param\n",
        "\n",
        "graph = city_graph.CityGraph(poi_specs, num_nodes, seed=0, splits=[0.95, 0, 0.05], use_test_city=True)\n",
        "\n",
        "receptive_field = graph.get_receptive_field(graph.central_edges[0], receptive_field_size)\n",
        "receptive_field = [p[0] for p in receptive_field]\n",
        "for edge in receptive_field.copy():\n",
        "  data = graph.nx_graph.get_edge_data(*graph.edge_to_internal[edge])\n",
        "  receptive_field += [graph.edge_from_internal[e] for e in data[\"edges\"]]\n",
        "  assert len(data[\"edges\"]) == data[\"level\"]\n",
        "receptive_field = set(receptive_field)\n",
        "pos = {}\n",
        "ego = None\n",
        "c = 10000\n",
        "for i, (u, v, data) in enumerate(graph.nx_graph.edges(data=True)):\n",
        "  if ego is None:\n",
        "    ego = c * data[\"u_lat\"], c * data[\"u_lon\"]\n",
        "  if u not in pos:\n",
        "    pos[u] = np.array([c * data[\"u_lat\"] - ego[0], c * data[\"u_lon\"] - ego[1]], dtype=np.float64)\n",
        "  if v not in pos:\n",
        "    pos[v] = np.array([c * data[\"v_lat\"] - ego[0], c* data[\"v_lon\"] - ego[1]], dtype=np.float64)\n",
        "\n",
        "plt.figure(figsize=(12, 12))\n",
        "plt.axis(\"off\")\n",
        "rng = random.Random(0)\n",
        "\n",
        "edge_colors = []\n",
        "width = []\n",
        "for (u, v, d) in graph.nx_graph.edges(data=True):\n",
        "  new_edge = graph.edge_from_internal[(u, v)]\n",
        "  if new_edge in receptive_field:\n",
        "    edge_colors.append(\"green\")\n",
        "    width.append(1)\n",
        "  elif new_edge == graph.central_edges[0]:\n",
        "    edge_colors.append(\"red\")\n",
        "    width.append(5)\n",
        "  else:\n",
        "    edge_colors.append(\"#dedede\")\n",
        "    width.append(0.4)\n",
        "\n",
        "nx.draw(graph.nx_graph, pos, arrows=False,\n",
        "    edge_color=edge_colors,\n",
        "    width=width, node_size=0)\n",
        "\n",
        "legend_labels = [patches.Patch(color=\"green\", label=\"Receptive Field Edge\"),\n",
        "                 patches.Patch(color=\"#dedede\", label=\"Other Edges\"),\n",
        "                 patches.Patch(color=\"red\", label=\"Central Edge\")]\n",
        "plt.legend(\n",
        "    handles=legend_labels,\n",
        "    loc=\"lower center\",\n",
        "    fontsize=10,\n",
        "    ncol=len(legend_labels),\n",
        ")\n",
        "plt.axis(\"off\")\n",
        "plt.title(\"Receptive field around edge {}\".format(edge))\n",
        "plt.show()"
      ]
    },
    {
      "cell_type": "markdown",
      "metadata": {
        "id": "9GsTRXns3YHv"
      },
      "source": [
        "`get_receptive_field` also indicates, for each edge it returns, what the edge you should take next to reach the given edge, based on the usual (but not necessarily current) travel times."
      ]
    },
    {
      "cell_type": "code",
      "execution_count": 9,
      "metadata": {
        "cellView": "form",
        "id": "olJpurCw2uY7",
        "jupyter": {
          "source_hidden": true
        }
      },
      "outputs": [],
      "source": [
        "# @title Receptive field edge hints.\n",
        "\n",
        "receptive_field_size = 100 # @param\n",
        "\n",
        "graph = city_graph.CityGraph(poi_specs, 100, seed=0, splits=[0.95, 0, 0.05], use_test_city=True)\n",
        "\n",
        "edge = graph.central_edges[0]\n",
        "receptive_field = graph.get_receptive_field(edge, receptive_field_size)\n",
        "receptive_edge, receptive_cand = receptive_field[-1]\n",
        "print(\"Receptive field size: {}\".format(edge, len(receptive_field)))\n",
        "\n",
        "pos = {}\n",
        "ego = None\n",
        "c = 10000\n",
        "for i, (u, v, data) in enumerate(graph.nx_graph.edges(data=True)):\n",
        "  if ego is None:\n",
        "    ego = c * data[\"u_lat\"], c * data[\"u_lon\"]\n",
        "  if u not in pos:\n",
        "    pos[u] = np.array([c * data[\"u_lat\"] - ego[0], c * data[\"u_lon\"] - ego[1]], dtype=np.float64)\n",
        "  if v not in pos:\n",
        "    pos[v] = np.array([c * data[\"v_lat\"] - ego[0], c* data[\"v_lon\"] - ego[1]], dtype=np.float64)\n",
        "\n",
        "plt.figure(figsize=(12, 12))\n",
        "plt.axis(\"off\")\n",
        "rng = random.Random(0)\n",
        "print(receptive_cand)\n",
        "\n",
        "edge_colors = []\n",
        "width = []\n",
        "for (u, v, d) in graph.nx_graph.edges(data=True):\n",
        "  new_edge = graph.edge_from_internal[(u, v)]\n",
        "  u = pos[u]\n",
        "  v = pos[v]\n",
        "  mid_point = [(u[0] + v[0]) / 2, (u[1] + v[1]) / 2]\n",
        "  offset = 2 * (rng.random() - 0.5)\n",
        "  if new_edge == receptive_edge:\n",
        "    edge_colors.append(\"green\")\n",
        "    width.append(3)\n",
        "  elif new_edge == edge:\n",
        "    edge_colors.append(\"red\")\n",
        "    width.append(3)\n",
        "  elif new_edge == receptive_cand:\n",
        "    edge_colors.append(\"blue\")\n",
        "    width.append(5)\n",
        "  else:\n",
        "    edge_colors.append(\"#dedede\")\n",
        "    width.append(1)\n",
        "\n",
        "nx.draw(graph.nx_graph, pos, arrows=False,\n",
        "    edge_color=edge_colors,\n",
        "    width=width, node_size=0)\n",
        "\n",
        "legend_labels = [patches.Patch(color=\"green\", label=\"Receptive Field Edge\"),\n",
        "                 patches.Patch(color=\"#dedede\", label=\"Other Edges\"),\n",
        "                 patches.Patch(color=\"blue\", label=\"Edge to Reach Receptive Field Edge\"),\n",
        "                 patches.Patch(color=\"red\", label=\"Central Edge\")]\n",
        "plt.legend(\n",
        "    handles=legend_labels,\n",
        "    loc=\"lower center\",\n",
        "    fontsize=10,\n",
        "    ncol=len(legend_labels),\n",
        ")\n",
        "plt.axis(\"off\")\n",
        "plt.title(\"Sample from receptive field around edge {}\".format(edge))\n",
        "plt.show()"
      ]
    },
    {
      "cell_type": "markdown",
      "metadata": {
        "id": "9VMZoS2pBWVG"
      },
      "source": [
        "## Routes"
      ]
    },
    {
      "cell_type": "markdown",
      "metadata": {
        "id": "TM78W2qn3lwM"
      },
      "source": [
        "Road graphs provide utilities for directly computing optimal\n",
        "We can use `get_shortest_path_len` to get the shortest path between two edges. We can pass along information, such as preferring/avoiding highways and point-of-interest requests to the function."
      ]
    },
    {
      "cell_type": "code",
      "execution_count": 10,
      "metadata": {
        "cellView": "form",
        "id": "lLvjfeBFrhTp",
        "jupyter": {
          "source_hidden": true
        }
      },
      "outputs": [],
      "source": [
        "# @title Shortest path examples.\n",
        "graph = city_graph.CityGraph(poi_specs, 20000, seed=0, splits=[0.95, 0, 0.05], use_test_city=True)\n",
        "\n",
        "rng = random.Random(0)\n",
        "edge = graph.central_edges[0]\n",
        "other_edge = graph.sample_noncentral_edge(2, rng)\n",
        "shortest_dist, shortest_path = graph.get_shortest_path_len(edge, other_edge, return_path=True)\n",
        "shortest_dist_pref, shortest_path_pref = graph.get_shortest_path_len(edge, other_edge, {\"linear\": \"dislike highways\", \"pois\": ((129,),)}, return_path=True)\n",
        "shortest_dist_poi, shortest_path_poi = graph.get_shortest_path_len(edge, other_edge, {\"linear\": \"\", \"pois\": ((129,),)}, return_path=True)\n",
        "shortest_dist_poi_or, shortest_path_poi_or = graph.get_shortest_path_len(edge, other_edge, {\"linear\": \"\", \"pois\": ((130, 129),)}, return_path=True)\n",
        "shortest_dist_poi_and, shortest_path_poi_and = graph.get_shortest_path_len(edge, other_edge, {\"linear\": \"\", \"pois\": ((129,), (130,))}, return_path=True)\n",
        "print(\"Shortest path time: {}\".format(shortest_dist))\n",
        "print(\"Shortest path segment length: {}\".format(len(shortest_path)))\n",
        "print(\"Shortest path time that visits a computer shop: {}\".format(shortest_dist_poi))\n",
        "print(\"Shortest path segment length that visits a computer shop: {}\".format(len(shortest_path_poi)))\n",
        "print(\"Shortest path time that visits a computer shop and minimizes highway time: {}\".format(shortest_dist_pref))\n",
        "print(\"Shortest path segment length that visits a computer shop and minimizes highway time: {}\".format(len(shortest_path_pref)))\n",
        "print(\"Shortest path time that visits a computer shop or electronics shop: {}\".format(shortest_dist_poi_or))\n",
        "print(\"Shortest path segment length that visits a computer shop or electronics shop: {}\".format(len(shortest_path_poi_or)))\n",
        "print(\"Shortest path time that visits a computer shop and electronics shop: {}\".format(shortest_dist_poi_and))\n",
        "print(\"Shortest path segment length that visits a computer shop and electronics shop: {}\".format(len(shortest_path_poi_and)))\n",
        "\n",
        "pos = {}\n",
        "ego = None\n",
        "c = 10000\n",
        "for i, (u, v, data) in enumerate(graph.nx_graph.edges(data=True)):\n",
        "  if ego is None:\n",
        "    ego = c * data[\"u_lat\"], c * data[\"u_lon\"]\n",
        "  if u not in pos:\n",
        "    pos[u] = np.array([c * data[\"u_lat\"] - ego[0], c * data[\"u_lon\"] - ego[1]], dtype=np.float64)\n",
        "  if v not in pos:\n",
        "    pos[v] = np.array([c * data[\"v_lat\"] - ego[0], c* data[\"v_lon\"] - ego[1]], dtype=np.float64)\n",
        "\n",
        "\n",
        "rng = random.Random(0)\n",
        "\n",
        "edge_color_lists = [\n",
        "    [],\n",
        "    [],\n",
        "    [],\n",
        "    [],\n",
        "    []\n",
        "]\n",
        "width_lists = [\n",
        "    [],\n",
        "    [],\n",
        "    [],\n",
        "    [],\n",
        "    []\n",
        "]\n",
        "for (u, v, d) in graph.nx_graph.edges(data=True):\n",
        "  new_edge = graph.edge_from_internal[(u, v)]\n",
        "  u = pos[u]\n",
        "  v = pos[v]\n",
        "  mid_point = [(u[0] + v[0]) / 2, (u[1] + v[1]) / 2]\n",
        "  offset = 2 * (rng.random() - 0.5)\n",
        "  for edge_color_list, width_list, path in zip(edge_color_lists, width_lists, [shortest_path, shortest_path_poi, shortest_path_pref, shortest_path_poi_or, shortest_path_poi_and]):\n",
        "    found = False\n",
        "    for edge in path:\n",
        "      data = graph.nx_graph.get_edge_data(*graph.edge_to_internal[edge])\n",
        "      if new_edge in [graph.edge_from_internal[e] for e in data[\"edges\"]]:\n",
        "        found = True\n",
        "        width_list.append(3)\n",
        "        if data[\"level\"] \u003e 1:\n",
        "          edge_color_list.append(\"green\")\n",
        "        else:\n",
        "          edge_color_list.append(\"blue\")\n",
        "        break\n",
        "    if not found:\n",
        "      edge_color_list.append(\"#dedede\")\n",
        "      width_list.append(0.2)\n",
        "\n",
        "\n",
        "node_colors = []\n",
        "for node in graph.nx_graph.nodes():\n",
        "  if node == graph.edge_to_internal[edge][0] or node == graph.edge_to_internal[other_edge][1]:\n",
        "    node_colors.append(\"red\")\n",
        "    width.append(100)\n",
        "  else:\n",
        "    node_colors.append(\"none\")\n",
        "\n",
        "fig, axes = plt.subplots(1, 3, figsize=(24, 10))\n",
        "plt.axis(\"off\")\n",
        "for ax, edge_colors, width_list, title in zip(axes, edge_color_lists[:3], width_lists[:3], [\"Shortest Travel\", \"Stop By Computer Shop\", \"Stop By Computer Shop; Minimize Highway Time\"]):\n",
        "  nx.draw(graph.nx_graph, pos, arrows=False,\n",
        "      edge_color=edge_colors, ax=ax,\n",
        "      width=width_list, node_size=3,\n",
        "          node_color=node_colors)\n",
        "  ax.set_title(title)\n",
        "\n",
        "legend_labels = [patches.Patch(color=\"green\", label=\"Returned Path\"),\n",
        "                 patches.Patch(color=\"red\", label=\"Start/End Edge\"),\n",
        "]\n",
        "plt.legend(\n",
        "    handles=legend_labels,\n",
        "    loc=\"lower center\",\n",
        "    fontsize=10,\n",
        "    ncol=len(legend_labels),\n",
        ")\n",
        "plt.axis(\"off\")\n",
        "plt.show()\n",
        "\n",
        "fig, axes = plt.subplots(1, 2, figsize=(16, 10))\n",
        "plt.axis(\"off\")\n",
        "for ax, edge_colors, width_list, title in zip(axes, edge_color_lists[3:], width_lists[3:], [\"Stop By Computer Shop or Electronics Shop\", \"Stop By Computer Shop and Electronics Shop\"]):\n",
        "  nx.draw(graph.nx_graph, pos, arrows=False,\n",
        "      edge_color=edge_colors, ax=ax,\n",
        "      width=width_list, node_size=3,\n",
        "          node_color=node_colors)\n",
        "  ax.set_title(title)\n",
        "\n",
        "legend_labels = [patches.Patch(color=\"blue\", label=\"Returned Path\"),\n",
        "                 patches.Patch(color=\"red\", label=\"Start/End Edge\"),\n",
        "]\n",
        "plt.legend(\n",
        "    handles=legend_labels,\n",
        "    loc=\"lower center\",\n",
        "    fontsize=10,\n",
        "    ncol=len(legend_labels),\n",
        ")\n",
        "plt.axis(\"off\")\n",
        "plt.show()"
      ]
    },
    {
      "cell_type": "markdown",
      "metadata": {
        "id": "Ubb6RYIWb7bA"
      },
      "source": [
        "Road graphs also provide statistics about a route through the method `route_metrics`."
      ]
    },
    {
      "cell_type": "code",
      "execution_count": 11,
      "metadata": {
        "cellView": "form",
        "id": "jdXMFTLCbi2K",
        "jupyter": {
          "source_hidden": true
        }
      },
      "outputs": [],
      "source": [
        "# @title Examples of route metrics from a road graph.\n",
        "\n",
        "rng = random.Random(0)\n",
        "graph = city_graph.CityGraph(poi_specs, 20000, seed=0, splits=[0.95, 0, 0.05], use_test_city=True)\n",
        "start = graph.central_edges[0]\n",
        "end = graph.sample_noncentral_edge(0, rng)\n",
        "\n",
        "df = []\n",
        "_, path = graph.get_shortest_path_len(start, end, {\"linear\": \"dislike highways\", \"pois\": ((129,),)}, return_path=True)\n",
        "df.append({\"Path\": \"Visit computer shop, dislike highways\", \"Evaluated on\": \"Visit computer shop, dislike highways\", **graph.route_metrics({\"linear\": \"dislike highways\", \"pois\": ((129,),)}, end, path)})\n",
        "df.append({\"Path\": \"Visit computer shop, dislike highways\", \"Evaluated on\": \"Visit computer shop\", **graph.route_metrics({\"linear\": \"\", \"pois\": ((129,),)}, end, path)})\n",
        "_, path = graph.get_shortest_path_len(start, end, {\"linear\": \"\", \"pois\": ((129,),)}, return_path=True)\n",
        "df.append({\"Path\": \"Visit computer shop\", \"Evaluated on\": \"Visit computer shop, dislike highways\", **graph.route_metrics({\"linear\": \"dislike highways\", \"pois\": ((129,),)}, end, path)})\n",
        "df.append({\"Path\": \"Visit computer shop\", \"Evaluated on\": \"Visit computer shop\", **graph.route_metrics({\"linear\": \"\", \"pois\": ((129,),)}, end, path)})\n",
        "df.append({\"Path\": \"Visit computer shop\", \"Evaluated on\": \"Visit computer shop and electronics shop\", **graph.route_metrics({\"linear\": \"\", \"pois\": ((129,), (130,))}, end, path)})\n",
        "df.append({\"Path\": \"Visit computer shop\", \"Evaluated on\": \"Visit computer shop or electronics shop\", **graph.route_metrics({\"linear\": \"\", \"pois\": ((129, 130),)}, end, path)})\n",
        "_, path = graph.get_shortest_path_len(start, end, {\"linear\": \"\", \"pois\": ((129,), (130,))}, return_path=True)\n",
        "df.append({\"Path\": \"Visit computer shop and electronics shop\", \"Evaluated on\": \"Visit computer shop and electronics shop\", **graph.route_metrics({\"linear\": \"\", \"pois\": ((129,), (130,))}, end, path)})\n",
        "_, path = graph.get_shortest_path_len(start, end, {\"linear\": \"\", \"pois\": ((129,),)}, return_path=True)\n",
        "path = path[:-1]\n",
        "df.append({\"Path\": \"Visit computer shop, last edge omitted\", \"Evaluated on\": \"Visit computer shop\", **graph.route_metrics({\"linear\": \"\", \"pois\": ((129,),)}, end, path)})\n",
        "pd.DataFrame(df)"
      ]
    }
  ],
  "metadata": {
    "kernelspec": {
      "display_name": "Python 3 (ipykernel)",
      "language": "python",
      "name": "python3"
    },
    "language_info": {
      "codemirror_mode": {
        "name": "ipython",
        "version": 3
      },
      "file_extension": ".py",
      "mimetype": "text/x-python",
      "name": "python",
      "nbconvert_exporter": "python",
      "pygments_lexer": "ipython3",
      "version": "3.11.9"
    }
  },
  "nbformat": 4,
  "nbformat_minor": 4
}
